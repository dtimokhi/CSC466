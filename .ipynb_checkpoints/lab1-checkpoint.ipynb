{
 "cells": [
  {
   "cell_type": "code",
   "execution_count": 147,
   "metadata": {},
   "outputs": [],
   "source": [
    "import pandas as pd\n",
    "import numpy as np\n",
    "import itertools"
   ]
  },
  {
   "cell_type": "markdown",
   "metadata": {},
   "source": [
    "Read in Bakery datasets"
   ]
  },
  {
   "cell_type": "code",
   "execution_count": 48,
   "metadata": {},
   "outputs": [],
   "source": [
    "bakery1000 = pd.read_csv('/Users/Dima/Desktop/CSC466/apriori/1000/1000-out1.csv',sep = '\\n', header = None)\n",
    "bakery1000Mtemp = bakery1000.ix[:,0].values\n",
    "bakery1000M = [list(map(int, x.split(','))) for x in bakery1000Mtemp]"
   ]
  },
  {
   "cell_type": "code",
   "execution_count": 49,
   "metadata": {},
   "outputs": [],
   "source": [
    "bakery5000 = pd.read_csv('/Users/Dima/Desktop/CSC466/apriori/5000/5000-out1.csv',sep = '\\n', header = None)\n",
    "bakery5000Mtemp = bakery5000.ix[:,0].values\n",
    "bakery5000M = [list(map(int, x.split(','))) for x in bakery5000Mtemp]"
   ]
  },
  {
   "cell_type": "code",
   "execution_count": 50,
   "metadata": {},
   "outputs": [],
   "source": [
    "bakery20000 = pd.read_csv('/Users/Dima/Desktop/CSC466/apriori/20000/20000-out1.csv',sep = '\\n', header = None)\n",
    "bakery20000Mtemp = bakery20000.ix[:,0].values\n",
    "bakery20000M = [list(map(int, x.split(','))) for x in bakery20000Mtemp]"
   ]
  },
  {
   "cell_type": "markdown",
   "metadata": {},
   "source": [
    "Start implementation of the Apriori algorithm. "
   ]
  },
  {
   "cell_type": "code",
   "execution_count": 93,
   "metadata": {},
   "outputs": [],
   "source": [
    "def support(item, baskets):\n",
    "    top = sum([1 if item in basket else 0 for basket in baskets])\n",
    "    bottom = len(baskets)\n",
    "    return top*1.0/bottom"
   ]
  },
  {
   "cell_type": "code",
   "execution_count": 290,
   "metadata": {},
   "outputs": [],
   "source": [
    "def getPairs(F, k):\n",
    "    outList = list()\n",
    "    for first in F:\n",
    "        for second in F:\n",
    "            if first.size == second.size and first.size == k:\n",
    "                outList.append([first, second, np.unique(np.hstack(np.array([first,second])))])\n",
    "    return outList\n",
    "                "
   ]
  },
  {
   "cell_type": "markdown",
   "metadata": {},
   "source": [
    "Need to fix this function :("
   ]
  },
  {
   "cell_type": "code",
   "execution_count": 341,
   "metadata": {},
   "outputs": [],
   "source": [
    "def candidateGen(F, k):\n",
    "    C = []\n",
    "    for pair in getPairs(F,k):\n",
    "        if pair[2].size == pair[0].size + 1:\n",
    "            c = pair[2]\n",
    "            flag = True\n",
    "            for s in list(itertools.combinations(c, c.size - 1)):\n",
    "                \n",
    "                if set(s).issubset(F) == False:\n",
    "                    flag = False\n",
    "            if flag == True:\n",
    "                #print(list(c))\n",
    "                if len(set(c)) == len(c) != True:\n",
    "                    C.append(list(c))\n",
    "                #print(list(C))\n",
    "    uniqueC = [list(x) for x in set(tuple(x) for x in C)]\n",
    "    arrayC = [np.array(x) for x in uniqueC]\n",
    "    return arrayC"
   ]
  },
  {
   "cell_type": "markdown",
   "metadata": {},
   "source": [
    "This isnt dont either."
   ]
  },
  {
   "cell_type": "code",
   "execution_count": 90,
   "metadata": {},
   "outputs": [],
   "source": [
    "def Apriori(T, I, minSup):\n",
    "    f1 = list(filter(lambda a: a != -1, [x if support(x, T) >= minSup else -1 for x in I]))\n",
    "    k = 2\n",
    "    fk_1 = f1\n",
    "    while len(fk_1) != 0:\n",
    "        Ck = \n",
    "    return f1"
   ]
  },
  {
   "cell_type": "code",
   "execution_count": 125,
   "metadata": {},
   "outputs": [
    {
     "data": {
      "text/plain": [
       "[4, 5, 7, 9, 14, 22, 27, 28, 31, 45]"
      ]
     },
     "execution_count": 125,
     "metadata": {},
     "output_type": "execute_result"
    }
   ],
   "source": [
    "t = Apriori(bakery1000M, items, .09)\n",
    "t"
   ]
  }
 ],
 "metadata": {
  "kernelspec": {
   "display_name": "Python 3",
   "language": "python",
   "name": "python3"
  },
  "language_info": {
   "codemirror_mode": {
    "name": "ipython",
    "version": 3
   },
   "file_extension": ".py",
   "mimetype": "text/x-python",
   "name": "python",
   "nbconvert_exporter": "python",
   "pygments_lexer": "ipython3",
   "version": "3.6.0"
  }
 },
 "nbformat": 4,
 "nbformat_minor": 2
}
