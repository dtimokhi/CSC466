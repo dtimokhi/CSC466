{
 "cells": [
  {
   "cell_type": "code",
   "execution_count": 2,
   "metadata": {},
   "outputs": [],
   "source": [
    "import pandas as pd\n",
    "import numpy as np\n",
    "import itertools"
   ]
  },
  {
   "cell_type": "code",
   "execution_count": 5,
   "metadata": {},
   "outputs": [],
   "source": [
    "bakery1000 = pd.read_csv('../apriori/1000/1000-out1.csv',sep = '\\n', header = None)\n",
    "bakery1000Mtemp = bakery1000.iloc[:,0].values\n",
    "bakery1000M = [list(map(int, x.split(','))) for x in bakery1000Mtemp]\n",
    "for x in bakery1000M:\n",
    "    del x[0]"
   ]
  },
  {
   "cell_type": "code",
   "execution_count": 6,
   "metadata": {},
   "outputs": [],
   "source": [
    "exampleData = pd.read_csv('../example/out1.csv', sep = '\\n', header = None)\n",
    "exampleDataTemp = exampleData.iloc[:,0].values\n",
    "exampleDataM = [list(map(int, x.split(','))) for x in exampleDataTemp]\n",
    "for x in exampleDataM:\n",
    "    del x[0]"
   ]
  },
  {
   "cell_type": "code",
   "execution_count": 85,
   "metadata": {},
   "outputs": [
    {
     "data": {
      "text/plain": [
       "[[2, 5, 27, 29, 32, 48],\n",
       " [15, 27, 31, 33, 36],\n",
       " [9, 16, 22],\n",
       " [12, 14, 16],\n",
       " [2, 9, 44],\n",
       " [9, 26, 39],\n",
       " [10, 31],\n",
       " [1, 47, 49],\n",
       " [12, 14, 16],\n",
       " [12, 14, 16]]"
      ]
     },
     "execution_count": 85,
     "metadata": {},
     "output_type": "execute_result"
    }
   ],
   "source": [
    "exampleDataM[0:10]"
   ]
  },
  {
   "cell_type": "code",
   "execution_count": null,
   "metadata": {},
   "outputs": [],
   "source": []
  },
  {
   "cell_type": "code",
   "execution_count": 8,
   "metadata": {},
   "outputs": [],
   "source": [
    "def support(item, baskets):\n",
    "    top = sum([1 if item in basket else 0 for basket in baskets])\n",
    "    bottom = len(baskets)\n",
    "    return top*1.0/bottom"
   ]
  },
  {
   "cell_type": "code",
   "execution_count": 9,
   "metadata": {},
   "outputs": [],
   "source": [
    "def getPairs(F, k):\n",
    "    outList = []\n",
    "    for first in F:\n",
    "        for second in F:\n",
    "            if len(first) == len(second) == k:\n",
    "                outList.append([first, second, tuple(set(first) | set(second))])\n",
    "    return outList "
   ]
  },
  {
   "cell_type": "code",
   "execution_count": 10,
   "metadata": {},
   "outputs": [],
   "source": [
    "def getSubsets(tmpTuple):\n",
    "    size = len(tmpTuple) - 1\n",
    "    return set(itertools.combinations(list(tmpTuple), size))"
   ]
  },
  {
   "cell_type": "code",
   "execution_count": 11,
   "metadata": {},
   "outputs": [],
   "source": [
    "def candidate(F,k):\n",
    "    C = set()\n",
    "    for pair in getPairs(F,k):\n",
    "        if len(pair[2]) == len(pair[0]) + 1:\n",
    "            c = pair[2]\n",
    "            flag = True\n",
    "            for s in getSubsets(c):\n",
    "                if s not in F:\n",
    "                    flag = False\n",
    "            if flag == True:\n",
    "                if c not in C:\n",
    "                    C.add(tuple(c))\n",
    "    return C"
   ]
  },
  {
   "cell_type": "code",
   "execution_count": 12,
   "metadata": {},
   "outputs": [],
   "source": [
    "def apriori(T, minSup):\n",
    "    FullSupport = []\n",
    "    I =  list(set(x for l in T for x in l))\n",
    "    Fk = []; Fk.append(None);\n",
    "    firstIter = set(tuple([x]) for x in filter(lambda a: a != -1, [x if support(x, T) >= minSup else -1 for x in I]))\n",
    "    Fk.append(firstIter)\n",
    "    k = 2\n",
    "    while len(Fk[k-1]) != 0:\n",
    "        Ck = candidate(Fk[k-1], k-1)\n",
    "        count = {}\n",
    "        for c in Ck:\n",
    "            count[c] = 0\n",
    "        for t in T:\n",
    "            for c in Ck:\n",
    "                if set(c) <= set(tuple(t)):\n",
    "                    count[c] += 1\n",
    "        tmpFk = []\n",
    "        for c in Ck:\n",
    "            #print(count[c]*1.0/len(T))\n",
    "            if count[c]*1.0/len(T) >= minSup:\n",
    "                #print(c)\n",
    "                tmpFk.append(c)\n",
    "        Fk.append(set(tmpFk))\n",
    "        newSet = set(x for x in Fk[k-1])\n",
    "        for newTerm in Fk[k]:\n",
    "            for oldTerm in Fk[k-1]:\n",
    "                if set(oldTerm).issubset(newTerm) == True:\n",
    "                    if oldTerm in newSet:\n",
    "                        #print(\"before: \", newSet)\n",
    "                        newSet.remove(oldTerm)\n",
    "                        #print(\"After: \", newSet)\n",
    "        Fk[k-1] = set(tuple(sorted(x)) for x in newSet)\n",
    "        #Fk[k] = set(tuple(sorted(x)) for x in Fk[k])\n",
    "        k += 1\n",
    "    Fk = Fk[1:-1]\n",
    "    return Fk\n",
    "                    \n",
    "            \n",
    "        \n",
    "    \n",
    "    "
   ]
  },
  {
   "cell_type": "code",
   "execution_count": 140,
   "metadata": {},
   "outputs": [],
   "source": [
    "def getCorrect():\n",
    "    t = np.linspace(.008, .03, 75)\n",
    "    for minS in t:\n",
    "        ap = apriori(bakery1000M, minS)\n",
    "        print(\"---- Apriori: \", minS, \" ----\")\n",
    "        print(\"NumRules: \", len(genRules(bakery1000M, ap, .8)))\n",
    "        for i, val in enumerate(ap):\n",
    "            print(i+1, \": \", len(val))\n",
    "            "
   ]
  },
  {
   "cell_type": "code",
   "execution_count": 141,
   "metadata": {},
   "outputs": [
    {
     "name": "stdout",
     "output_type": "stream",
     "text": [
      "---- Apriori:  0.008  ----\n",
      "NumRules:  48\n",
      "1 :  7\n",
      "2 :  53\n",
      "3 :  18\n",
      "4 :  1\n",
      "---- Apriori:  0.0082972972973  ----\n",
      "NumRules:  48\n",
      "1 :  11\n",
      "2 :  27\n",
      "3 :  18\n",
      "4 :  1\n",
      "---- Apriori:  0.00859459459459  ----\n",
      "NumRules:  48\n",
      "1 :  11\n",
      "2 :  27\n",
      "3 :  18\n",
      "4 :  1\n",
      "---- Apriori:  0.00889189189189  ----\n",
      "NumRules:  48\n",
      "1 :  11\n",
      "2 :  27\n",
      "3 :  18\n",
      "4 :  1\n",
      "---- Apriori:  0.00918918918919  ----\n",
      "NumRules:  48\n",
      "1 :  11\n",
      "2 :  17\n",
      "3 :  18\n",
      "4 :  1\n",
      "---- Apriori:  0.00948648648649  ----\n",
      "NumRules:  48\n",
      "1 :  11\n",
      "2 :  17\n",
      "3 :  18\n",
      "4 :  1\n",
      "---- Apriori:  0.00978378378378  ----\n",
      "NumRules:  48\n",
      "1 :  11\n",
      "2 :  17\n",
      "3 :  18\n",
      "4 :  1\n",
      "---- Apriori:  0.0100810810811  ----\n",
      "NumRules:  48\n",
      "1 :  12\n",
      "2 :  12\n",
      "3 :  18\n",
      "4 :  1\n",
      "---- Apriori:  0.0103783783784  ----\n",
      "NumRules:  48\n",
      "1 :  12\n",
      "2 :  12\n",
      "3 :  18\n",
      "4 :  1\n",
      "---- Apriori:  0.0106756756757  ----\n",
      "NumRules:  48\n",
      "1 :  12\n",
      "2 :  12\n",
      "3 :  18\n",
      "4 :  1\n",
      "---- Apriori:  0.010972972973  ----\n",
      "NumRules:  48\n",
      "1 :  12\n",
      "2 :  12\n",
      "3 :  18\n",
      "4 :  1\n",
      "---- Apriori:  0.0112702702703  ----\n",
      "NumRules:  48\n",
      "1 :  12\n",
      "2 :  11\n",
      "3 :  18\n",
      "4 :  1\n",
      "---- Apriori:  0.0115675675676  ----\n",
      "NumRules:  48\n",
      "1 :  12\n",
      "2 :  11\n",
      "3 :  18\n",
      "4 :  1\n",
      "---- Apriori:  0.0118648648649  ----\n",
      "NumRules:  48\n",
      "1 :  12\n",
      "2 :  11\n",
      "3 :  18\n",
      "4 :  1\n",
      "---- Apriori:  0.0121621621622  ----\n",
      "NumRules:  48\n",
      "1 :  12\n",
      "2 :  10\n",
      "3 :  18\n",
      "4 :  1\n",
      "---- Apriori:  0.0124594594595  ----\n",
      "NumRules:  48\n",
      "1 :  12\n",
      "2 :  10\n",
      "3 :  18\n",
      "4 :  1\n",
      "---- Apriori:  0.0127567567568  ----\n",
      "NumRules:  48\n",
      "1 :  12\n",
      "2 :  10\n",
      "3 :  18\n",
      "4 :  1\n",
      "---- Apriori:  0.0130540540541  ----\n",
      "NumRules:  48\n",
      "1 :  12\n",
      "2 :  9\n",
      "3 :  18\n",
      "4 :  1\n",
      "---- Apriori:  0.0133513513514  ----\n",
      "NumRules:  48\n",
      "1 :  12\n",
      "2 :  9\n",
      "3 :  18\n",
      "4 :  1\n",
      "---- Apriori:  0.0136486486486  ----\n",
      "NumRules:  48\n",
      "1 :  12\n",
      "2 :  9\n",
      "3 :  18\n",
      "4 :  1\n",
      "---- Apriori:  0.0139459459459  ----\n",
      "NumRules:  48\n",
      "1 :  12\n",
      "2 :  9\n",
      "3 :  18\n",
      "4 :  1\n",
      "---- Apriori:  0.0142432432432  ----\n",
      "NumRules:  48\n",
      "1 :  12\n",
      "2 :  9\n",
      "3 :  18\n",
      "4 :  1\n",
      "---- Apriori:  0.0145405405405  ----\n",
      "NumRules:  48\n",
      "1 :  12\n",
      "2 :  9\n",
      "3 :  18\n",
      "4 :  1\n",
      "---- Apriori:  0.0148378378378  ----\n",
      "NumRules:  48\n",
      "1 :  12\n",
      "2 :  9\n",
      "3 :  18\n",
      "4 :  1\n",
      "---- Apriori:  0.0151351351351  ----\n",
      "NumRules:  48\n",
      "1 :  12\n",
      "2 :  9\n",
      "3 :  18\n",
      "4 :  1\n",
      "---- Apriori:  0.0154324324324  ----\n",
      "NumRules:  48\n",
      "1 :  12\n",
      "2 :  9\n",
      "3 :  18\n",
      "4 :  1\n",
      "---- Apriori:  0.0157297297297  ----\n",
      "NumRules:  48\n",
      "1 :  12\n",
      "2 :  9\n",
      "3 :  18\n",
      "4 :  1\n",
      "---- Apriori:  0.016027027027  ----\n",
      "NumRules:  48\n",
      "1 :  12\n",
      "2 :  9\n",
      "3 :  18\n",
      "4 :  1\n",
      "---- Apriori:  0.0163243243243  ----\n",
      "NumRules:  48\n",
      "1 :  12\n",
      "2 :  9\n",
      "3 :  18\n",
      "4 :  1\n",
      "---- Apriori:  0.0166216216216  ----\n",
      "NumRules:  48\n",
      "1 :  12\n",
      "2 :  9\n",
      "3 :  18\n",
      "4 :  1\n",
      "---- Apriori:  0.0169189189189  ----\n",
      "NumRules:  48\n",
      "1 :  12\n",
      "2 :  9\n",
      "3 :  18\n",
      "4 :  1\n",
      "---- Apriori:  0.0172162162162  ----\n",
      "NumRules:  48\n",
      "1 :  12\n",
      "2 :  9\n",
      "3 :  18\n",
      "4 :  1\n",
      "---- Apriori:  0.0175135135135  ----\n",
      "NumRules:  48\n",
      "1 :  12\n",
      "2 :  9\n",
      "3 :  18\n",
      "4 :  1\n",
      "---- Apriori:  0.0178108108108  ----\n",
      "NumRules:  48\n",
      "1 :  12\n",
      "2 :  9\n",
      "3 :  18\n",
      "4 :  1\n",
      "---- Apriori:  0.0181081081081  ----\n",
      "NumRules:  46\n",
      "1 :  13\n",
      "2 :  10\n",
      "3 :  17\n",
      "4 :  1\n",
      "---- Apriori:  0.0184054054054  ----\n",
      "NumRules:  46\n",
      "1 :  13\n",
      "2 :  10\n",
      "3 :  17\n",
      "4 :  1\n",
      "---- Apriori:  0.0187027027027  ----\n",
      "NumRules:  46\n",
      "1 :  13\n",
      "2 :  10\n",
      "3 :  17\n",
      "4 :  1\n",
      "---- Apriori:  0.019  ----\n",
      "NumRules:  46\n",
      "1 :  13\n",
      "2 :  10\n",
      "3 :  17\n",
      "4 :  1\n",
      "---- Apriori:  0.0192972972973  ----\n",
      "NumRules:  40\n",
      "1 :  13\n",
      "2 :  14\n",
      "3 :  15\n",
      "---- Apriori:  0.0195945945946  ----\n",
      "NumRules:  40\n",
      "1 :  13\n",
      "2 :  14\n",
      "3 :  15\n",
      "---- Apriori:  0.0198918918919  ----\n",
      "NumRules:  40\n",
      "1 :  13\n",
      "2 :  14\n",
      "3 :  15\n",
      "---- Apriori:  0.0201891891892  ----\n",
      "NumRules:  40\n",
      "1 :  13\n",
      "2 :  12\n",
      "3 :  15\n",
      "---- Apriori:  0.0204864864865  ----\n",
      "NumRules:  40\n",
      "1 :  13\n",
      "2 :  12\n",
      "3 :  15\n",
      "---- Apriori:  0.0207837837838  ----\n",
      "NumRules:  40\n",
      "1 :  13\n",
      "2 :  12\n",
      "3 :  15\n",
      "---- Apriori:  0.0210810810811  ----\n",
      "NumRules:  40\n",
      "1 :  13\n",
      "2 :  11\n",
      "3 :  15\n",
      "---- Apriori:  0.0213783783784  ----\n",
      "NumRules:  40\n",
      "1 :  13\n",
      "2 :  11\n",
      "3 :  15\n",
      "---- Apriori:  0.0216756756757  ----\n",
      "NumRules:  40\n",
      "1 :  13\n",
      "2 :  11\n",
      "3 :  15\n",
      "---- Apriori:  0.021972972973  ----\n",
      "NumRules:  40\n",
      "1 :  13\n",
      "2 :  11\n",
      "3 :  15\n",
      "---- Apriori:  0.0222702702703  ----\n",
      "NumRules:  40\n",
      "1 :  13\n",
      "2 :  11\n",
      "3 :  15\n",
      "---- Apriori:  0.0225675675676  ----\n",
      "NumRules:  40\n",
      "1 :  13\n",
      "2 :  11\n",
      "3 :  15\n",
      "---- Apriori:  0.0228648648649  ----\n",
      "NumRules:  40\n",
      "1 :  13\n",
      "2 :  11\n",
      "3 :  15\n",
      "---- Apriori:  0.0231621621622  ----\n",
      "NumRules:  38\n",
      "1 :  14\n",
      "2 :  13\n",
      "3 :  14\n",
      "---- Apriori:  0.0234594594595  ----\n",
      "NumRules:  38\n",
      "1 :  14\n",
      "2 :  13\n",
      "3 :  14\n",
      "---- Apriori:  0.0237567567568  ----\n",
      "NumRules:  38\n",
      "1 :  14\n",
      "2 :  13\n",
      "3 :  14\n",
      "---- Apriori:  0.0240540540541  ----\n",
      "NumRules:  30\n",
      "1 :  15\n",
      "2 :  14\n",
      "3 :  11\n",
      "---- Apriori:  0.0243513513514  ----\n",
      "NumRules:  30\n",
      "1 :  15\n",
      "2 :  14\n",
      "3 :  11\n",
      "---- Apriori:  0.0246486486486  ----\n",
      "NumRules:  30\n",
      "1 :  15\n",
      "2 :  14\n",
      "3 :  11\n",
      "---- Apriori:  0.0249459459459  ----\n",
      "NumRules:  30\n",
      "1 :  15\n",
      "2 :  14\n",
      "3 :  11\n",
      "---- Apriori:  0.0252432432432  ----\n",
      "NumRules:  30\n",
      "1 :  15\n",
      "2 :  13\n",
      "3 :  11\n",
      "---- Apriori:  0.0255405405405  ----\n",
      "NumRules:  30\n",
      "1 :  15\n",
      "2 :  13\n",
      "3 :  11\n",
      "---- Apriori:  0.0258378378378  ----\n",
      "NumRules:  30\n",
      "1 :  15\n",
      "2 :  13\n",
      "3 :  11\n",
      "---- Apriori:  0.0261351351351  ----\n",
      "NumRules:  30\n",
      "1 :  16\n",
      "2 :  11\n",
      "3 :  11\n",
      "---- Apriori:  0.0264324324324  ----\n",
      "NumRules:  30\n",
      "1 :  16\n",
      "2 :  11\n",
      "3 :  11\n",
      "---- Apriori:  0.0267297297297  ----\n",
      "NumRules:  30\n",
      "1 :  16\n",
      "2 :  11\n",
      "3 :  11\n",
      "---- Apriori:  0.027027027027  ----\n",
      "NumRules:  27\n",
      "1 :  16\n",
      "2 :  14\n",
      "3 :  10\n",
      "---- Apriori:  0.0273243243243  ----\n",
      "NumRules:  27\n",
      "1 :  16\n",
      "2 :  14\n",
      "3 :  10\n",
      "---- Apriori:  0.0276216216216  ----\n",
      "NumRules:  27\n",
      "1 :  16\n",
      "2 :  14\n",
      "3 :  10\n",
      "---- Apriori:  0.0279189189189  ----\n",
      "NumRules:  27\n",
      "1 :  16\n",
      "2 :  14\n",
      "3 :  10\n",
      "---- Apriori:  0.0282162162162  ----\n",
      "NumRules:  18\n",
      "1 :  16\n",
      "2 :  17\n",
      "3 :  7\n",
      "---- Apriori:  0.0285135135135  ----\n",
      "NumRules:  18\n",
      "1 :  16\n",
      "2 :  17\n",
      "3 :  7\n",
      "---- Apriori:  0.0288108108108  ----\n",
      "NumRules:  18\n",
      "1 :  16\n",
      "2 :  17\n",
      "3 :  7\n",
      "---- Apriori:  0.0291081081081  ----\n",
      "NumRules:  15\n",
      "1 :  16\n",
      "2 :  16\n",
      "3 :  6\n",
      "---- Apriori:  0.0294054054054  ----\n",
      "NumRules:  15\n",
      "1 :  16\n",
      "2 :  16\n",
      "3 :  6\n",
      "---- Apriori:  0.0297027027027  ----\n",
      "NumRules:  15\n",
      "1 :  16\n",
      "2 :  16\n",
      "3 :  6\n",
      "---- Apriori:  0.03  ----\n",
      "NumRules:  15\n",
      "1 :  16\n",
      "2 :  16\n",
      "3 :  6\n"
     ]
    }
   ],
   "source": [
    "getCorrect()"
   ]
  },
  {
   "cell_type": "code",
   "execution_count": null,
   "metadata": {},
   "outputs": [],
   "source": []
  },
  {
   "cell_type": "code",
   "execution_count": null,
   "metadata": {},
   "outputs": [],
   "source": []
  },
  {
   "cell_type": "code",
   "execution_count": null,
   "metadata": {},
   "outputs": [],
   "source": []
  },
  {
   "cell_type": "code",
   "execution_count": 121,
   "metadata": {},
   "outputs": [],
   "source": [
    "def genRules(data, freqItemSet, minConf):\n",
    "    allRules = []\n",
    "    freqItemSet = freqItemSet[1:]\n",
    "    freqItemSet = [item for sublist in freqItemSet for item in sublist]\n",
    "    for itemSet in freqItemSet:\n",
    "        for item in itemSet:\n",
    "            noItem=set(itemSet)-(set([item]))\n",
    "            item = set([item])\n",
    "            conf = confidence(data,noItem,item)\n",
    "            confItem = [noItem, item, conf]\n",
    "            if conf >= minConf:\n",
    "                allRules.append(confItem)\n",
    "    return allRules\n",
    "                    "
   ]
  },
  {
   "cell_type": "code",
   "execution_count": null,
   "metadata": {},
   "outputs": [],
   "source": []
  },
  {
   "cell_type": "code",
   "execution_count": null,
   "metadata": {},
   "outputs": [],
   "source": []
  },
  {
   "cell_type": "code",
   "execution_count": 82,
   "metadata": {},
   "outputs": [],
   "source": [
    "def confidence(T,set1,set2): #Dataset,leftSideList,rightSideList\n",
    "    top = sum([1 if (set1|set2) <= set(basket) else 0 for basket in T])\n",
    "    bottom = sum([1 if (set1) <= set(basket) else 0 for basket in T])\n",
    "    if(bottom == 0 | top == 0):\n",
    "        return 0\n",
    "    return top*1.0/bottom"
   ]
  },
  {
   "cell_type": "code",
   "execution_count": 99,
   "metadata": {},
   "outputs": [],
   "source": [
    "t = apriori(exampleDataM, .1)"
   ]
  },
  {
   "cell_type": "code",
   "execution_count": 96,
   "metadata": {},
   "outputs": [
    {
     "data": {
      "text/plain": [
       "[set(), {(1, 49), (9, 22), (15, 36)}, {(12, 14, 16)}]"
      ]
     },
     "execution_count": 96,
     "metadata": {},
     "output_type": "execute_result"
    }
   ],
   "source": [
    "t"
   ]
  },
  {
   "cell_type": "code",
   "execution_count": 101,
   "metadata": {},
   "outputs": [
    {
     "data": {
      "text/plain": [
       "[{(1, 49), (9, 22), (15, 36)}, {(12, 14, 16)}]"
      ]
     },
     "execution_count": 101,
     "metadata": {},
     "output_type": "execute_result"
    }
   ],
   "source": [
    "t[1:]"
   ]
  },
  {
   "cell_type": "code",
   "execution_count": 133,
   "metadata": {},
   "outputs": [],
   "source": [
    "t = apriori(exampleDataM, .05)"
   ]
  },
  {
   "cell_type": "code",
   "execution_count": null,
   "metadata": {},
   "outputs": [],
   "source": []
  },
  {
   "cell_type": "code",
   "execution_count": 134,
   "metadata": {},
   "outputs": [
    {
     "data": {
      "text/plain": [
       "[{(41,)}, {(1, 49), (9, 22), (15, 36)}, {(12, 14, 16)}]"
      ]
     },
     "execution_count": 134,
     "metadata": {},
     "output_type": "execute_result"
    }
   ],
   "source": [
    "t"
   ]
  },
  {
   "cell_type": "code",
   "execution_count": null,
   "metadata": {},
   "outputs": [],
   "source": []
  },
  {
   "cell_type": "code",
   "execution_count": null,
   "metadata": {},
   "outputs": [],
   "source": []
  },
  {
   "cell_type": "code",
   "execution_count": 135,
   "metadata": {},
   "outputs": [
    {
     "data": {
      "text/plain": [
       "[[{36}, {15}, 0.7988505747126436],\n",
       " [{15}, {36}, 0.7513513513513513],\n",
       " [{22}, {9}, 0.8418604651162791],\n",
       " [{9}, {22}, 0.8044444444444444],\n",
       " [{49}, {1}, 0.7839506172839507],\n",
       " [{1}, {49}, 0.8141025641025641],\n",
       " [{14, 16}, {12}, 0.9961240310077519],\n",
       " [{12, 16}, {14}, 0.9922779922779923],\n",
       " [{12, 14}, {16}, 0.9589552238805971]]"
      ]
     },
     "execution_count": 135,
     "metadata": {},
     "output_type": "execute_result"
    }
   ],
   "source": [
    "genRules(exampleDataM, t, .7)"
   ]
  },
  {
   "cell_type": "code",
   "execution_count": null,
   "metadata": {},
   "outputs": [],
   "source": []
  },
  {
   "cell_type": "code",
   "execution_count": null,
   "metadata": {},
   "outputs": [],
   "source": []
  },
  {
   "cell_type": "code",
   "execution_count": null,
   "metadata": {},
   "outputs": [],
   "source": []
  },
  {
   "cell_type": "code",
   "execution_count": null,
   "metadata": {},
   "outputs": [],
   "source": []
  },
  {
   "cell_type": "code",
   "execution_count": null,
   "metadata": {},
   "outputs": [],
   "source": []
  },
  {
   "cell_type": "code",
   "execution_count": null,
   "metadata": {},
   "outputs": [],
   "source": []
  },
  {
   "cell_type": "code",
   "execution_count": null,
   "metadata": {},
   "outputs": [],
   "source": []
  },
  {
   "cell_type": "code",
   "execution_count": null,
   "metadata": {},
   "outputs": [],
   "source": []
  },
  {
   "cell_type": "code",
   "execution_count": null,
   "metadata": {},
   "outputs": [],
   "source": []
  },
  {
   "cell_type": "code",
   "execution_count": null,
   "metadata": {},
   "outputs": [],
   "source": []
  },
  {
   "cell_type": "code",
   "execution_count": null,
   "metadata": {},
   "outputs": [],
   "source": []
  },
  {
   "cell_type": "code",
   "execution_count": null,
   "metadata": {},
   "outputs": [],
   "source": []
  },
  {
   "cell_type": "code",
   "execution_count": null,
   "metadata": {},
   "outputs": [],
   "source": []
  },
  {
   "cell_type": "code",
   "execution_count": null,
   "metadata": {},
   "outputs": [],
   "source": []
  },
  {
   "cell_type": "code",
   "execution_count": null,
   "metadata": {},
   "outputs": [],
   "source": []
  },
  {
   "cell_type": "code",
   "execution_count": null,
   "metadata": {},
   "outputs": [],
   "source": []
  },
  {
   "cell_type": "code",
   "execution_count": null,
   "metadata": {},
   "outputs": [],
   "source": []
  },
  {
   "cell_type": "code",
   "execution_count": null,
   "metadata": {},
   "outputs": [],
   "source": []
  },
  {
   "cell_type": "code",
   "execution_count": null,
   "metadata": {},
   "outputs": [],
   "source": []
  },
  {
   "cell_type": "code",
   "execution_count": null,
   "metadata": {},
   "outputs": [],
   "source": []
  },
  {
   "cell_type": "code",
   "execution_count": null,
   "metadata": {},
   "outputs": [],
   "source": []
  },
  {
   "cell_type": "code",
   "execution_count": null,
   "metadata": {},
   "outputs": [],
   "source": []
  },
  {
   "cell_type": "code",
   "execution_count": null,
   "metadata": {},
   "outputs": [],
   "source": []
  },
  {
   "cell_type": "code",
   "execution_count": null,
   "metadata": {},
   "outputs": [],
   "source": []
  },
  {
   "cell_type": "code",
   "execution_count": 87,
   "metadata": {},
   "outputs": [
    {
     "data": {
      "text/plain": [
       "numpy.float64"
      ]
     },
     "execution_count": 87,
     "metadata": {},
     "output_type": "execute_result"
    }
   ],
   "source": [
    "type(t[1])"
   ]
  },
  {
   "cell_type": "code",
   "execution_count": 88,
   "metadata": {},
   "outputs": [
    {
     "data": {
      "text/plain": [
       "0.001292929292929293"
      ]
     },
     "execution_count": 88,
     "metadata": {},
     "output_type": "execute_result"
    }
   ],
   "source": [
    "t[1]"
   ]
  },
  {
   "cell_type": "code",
   "execution_count": null,
   "metadata": {},
   "outputs": [],
   "source": []
  },
  {
   "cell_type": "code",
   "execution_count": null,
   "metadata": {},
   "outputs": [],
   "source": []
  }
 ],
 "metadata": {
  "kernelspec": {
   "display_name": "Python 3",
   "language": "python",
   "name": "python3"
  },
  "language_info": {
   "codemirror_mode": {
    "name": "ipython",
    "version": 3
   },
   "file_extension": ".py",
   "mimetype": "text/x-python",
   "name": "python",
   "nbconvert_exporter": "python",
   "pygments_lexer": "ipython3",
   "version": "3.6.0"
  }
 },
 "nbformat": 4,
 "nbformat_minor": 2
}
