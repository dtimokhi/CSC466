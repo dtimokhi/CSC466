{
 "cells": [
  {
   "cell_type": "code",
   "execution_count": 2,
   "metadata": {},
   "outputs": [],
   "source": [
    "import pandas as pd\n",
    "import numpy as np\n",
    "import itertools"
   ]
  },
  {
   "cell_type": "markdown",
   "metadata": {},
   "source": [
    "Read in Bakery datasets"
   ]
  },
  {
   "cell_type": "code",
   "execution_count": 3,
   "metadata": {},
   "outputs": [],
   "source": [
    "bakery1000 = pd.read_csv('/Users/Dima/Desktop/CSC466/apriori/1000/1000-out1.csv',sep = '\\n', header = None)\n",
    "bakery1000Mtemp = bakery1000.ix[:,0].values\n",
    "bakery1000M = [list(map(int, x.split(','))) for x in bakery1000Mtemp]"
   ]
  },
  {
   "cell_type": "code",
   "execution_count": 4,
   "metadata": {},
   "outputs": [],
   "source": [
    "bakery5000 = pd.read_csv('/Users/Dima/Desktop/CSC466/apriori/5000/5000-out1.csv',sep = '\\n', header = None)\n",
    "bakery5000Mtemp = bakery5000.ix[:,0].values\n",
    "bakery5000M = [list(map(int, x.split(','))) for x in bakery5000Mtemp]"
   ]
  },
  {
   "cell_type": "code",
   "execution_count": 106,
   "metadata": {},
   "outputs": [],
   "source": [
    "bakery20000 = pd.read_csv('/Users/Dima/Desktop/CSC466/apriori/20000/20000-out1.csv',sep = '\\n', header = None)\n",
    "bakery20000Mtemp = bakery20000.ix[:,0].values\n",
    "bakery20000M = [list(map(int, x.split(','))) for x in bakery20000Mtemp]"
   ]
  },
  {
   "cell_type": "code",
   "execution_count": 109,
   "metadata": {},
   "outputs": [],
   "source": [
    "exampleData = pd.read_csv('/Users/Dima/Desktop/CSC466/example/out1.csv', sep = '\\n', header = None)\n",
    "exampleDataTemp = exampleData.ix[:,0].values\n",
    "exampleDataM = [list(map(int, x.split(','))) for x in exampleDataTemp]"
   ]
  },
  {
   "cell_type": "code",
   "execution_count": null,
   "metadata": {},
   "outputs": [],
   "source": []
  },
  {
   "cell_type": "code",
   "execution_count": null,
   "metadata": {},
   "outputs": [],
   "source": []
  },
  {
   "cell_type": "code",
   "execution_count": null,
   "metadata": {},
   "outputs": [],
   "source": []
  },
  {
   "cell_type": "markdown",
   "metadata": {},
   "source": [
    "Start implementation of the Apriori algorithm. "
   ]
  },
  {
   "cell_type": "code",
   "execution_count": 6,
   "metadata": {},
   "outputs": [],
   "source": [
    "def support(item, baskets):\n",
    "    top = sum([1 if item in basket else 0 for basket in baskets])\n",
    "    bottom = len(baskets)\n",
    "    return top*1.0/bottom"
   ]
  },
  {
   "cell_type": "code",
   "execution_count": 21,
   "metadata": {},
   "outputs": [],
   "source": [
    "def getPairs(F, k):\n",
    "    outList = list()\n",
    "    for first in F:\n",
    "        for second in F:\n",
    "            if first.size == second.size and first.size == k:\n",
    "                outList.append([first, second, np.unique(np.hstack(np.array([first,second])))])\n",
    "    return outList\n",
    "                "
   ]
  },
  {
   "cell_type": "code",
   "execution_count": 84,
   "metadata": {},
   "outputs": [],
   "source": [
    "def checkSubset(F, check, k):\n",
    "    out = False\n",
    "    if k >= 2:\n",
    "        for val in F:\n",
    "            if np.array_equal(val,check) == True:\n",
    "                out = True\n",
    "    else:\n",
    "        if check in F:\n",
    "            out = True\n",
    "    return out"
   ]
  },
  {
   "cell_type": "code",
   "execution_count": null,
   "metadata": {},
   "outputs": [],
   "source": [
    "def checkSubsetApriori(bigTerm, smallTerm):\n",
    "    "
   ]
  },
  {
   "cell_type": "code",
   "execution_count": 27,
   "metadata": {},
   "outputs": [
    {
     "data": {
      "text/plain": [
       "True"
      ]
     },
     "execution_count": 27,
     "metadata": {},
     "output_type": "execute_result"
    }
   ],
   "source": [
    "checkSubset(testOut, np.array([5,9]), 2)"
   ]
  },
  {
   "cell_type": "code",
   "execution_count": 28,
   "metadata": {},
   "outputs": [
    {
     "data": {
      "text/plain": [
       "True"
      ]
     },
     "execution_count": 28,
     "metadata": {},
     "output_type": "execute_result"
    }
   ],
   "source": [
    "checkSubset(t, 4, 1)"
   ]
  },
  {
   "cell_type": "markdown",
   "metadata": {},
   "source": [
    "This works :)"
   ]
  },
  {
   "cell_type": "code",
   "execution_count": 31,
   "metadata": {},
   "outputs": [],
   "source": [
    "def candidateGen(F, k):\n",
    "    C = []\n",
    "    for pair in getPairs(F,k):\n",
    "        if pair[2].size == pair[0].size + 1:\n",
    "            c = pair[2]\n",
    "            flag = True\n",
    "            for s in list(itertools.combinations(c, c.size - 1)):\n",
    "                if checkSubset(F,s,k) == False:\n",
    "                    flag = False\n",
    "            if flag == True:\n",
    "                if len(set(c)) == len(c) != True:\n",
    "                    C.append(list(c))\n",
    "    uniqueC = [list(x) for x in set(tuple(x) for x in C)]\n",
    "    arrayC = [np.array(x) for x in uniqueC]\n",
    "    return arrayC"
   ]
  },
  {
   "cell_type": "code",
   "execution_count": 32,
   "metadata": {},
   "outputs": [],
   "source": [
    "testOut = candidateGen(t,1)"
   ]
  },
  {
   "cell_type": "code",
   "execution_count": 138,
   "metadata": {},
   "outputs": [],
   "source": [
    "testOut2 = candidateGen(testOut, 2)"
   ]
  },
  {
   "cell_type": "code",
   "execution_count": 139,
   "metadata": {},
   "outputs": [],
   "source": [
    "def getMaximal(Fk, items):\n",
    "    #remove first and last term\n",
    "    Fk = Fk[1:-1]\n",
    "    \n",
    "    "
   ]
  },
  {
   "cell_type": "code",
   "execution_count": null,
   "metadata": {},
   "outputs": [],
   "source": []
  },
  {
   "cell_type": "markdown",
   "metadata": {},
   "source": [
    "This isnt dont either."
   ]
  },
  {
   "cell_type": "code",
   "execution_count": 176,
   "metadata": {},
   "outputs": [],
   "source": [
    "def Apriori(T, I, minSup):\n",
    "    Fk = []; Fk.append(None);\n",
    "    Fk.append(list(filter(lambda a: a != -1, [x if support(x, T) >= minSup else -1 for x in I])))\n",
    "    k = 2\n",
    "    while len(Fk[k-1]) != 0:\n",
    "        Ck = candidateGen(Fk[k-1], k-1)\n",
    "        count = {}\n",
    "        for c in Ck:\n",
    "            count[tuple(c)] = 0\n",
    "        for t in T:\n",
    "            for c in Ck:\n",
    "                if set(tuple(c)) <= set(tuple(t)):\n",
    "                    count[tuple(c)] += 1\n",
    "        tmpFk = []\n",
    "        for c in Ck:\n",
    "            if count[tuple(c)]*1.0/len(T) >= minSup:\n",
    "                tmpFk.append(c)\n",
    "        Fk.append(tmpFk)\n",
    "        for j, newTerm in enumerate(Fk[k]):\n",
    "            for i, term in enumerate(Fk[k-1]):\n",
    "                if k-1 == 1 and newTerm.__contains__(term):\n",
    "                    del Fk[k-1][i]\n",
    "                    \n",
    "                elif k-1 > 1 and  set(tuple(term)) <= set(tuple(newTerm)):\n",
    "                    Fk[k-1] = np.delete(Fk[k-1], np.where( Fk[k-1] == term), 0)\n",
    "                \n",
    "        k = k + 1\n",
    "    return Fk"
   ]
  },
  {
   "cell_type": "code",
   "execution_count": null,
   "metadata": {},
   "outputs": [],
   "source": []
  },
  {
   "cell_type": "code",
   "execution_count": null,
   "metadata": {},
   "outputs": [],
   "source": []
  },
  {
   "cell_type": "code",
   "execution_count": null,
   "metadata": {},
   "outputs": [],
   "source": []
  },
  {
   "cell_type": "code",
   "execution_count": 160,
   "metadata": {},
   "outputs": [
    {
     "data": {
      "text/plain": [
       "True"
      ]
     },
     "execution_count": 160,
     "metadata": {},
     "output_type": "execute_result"
    }
   ],
   "source": [
    "set(tuple(np.array([12,31]))) <= set(tuple(np.array([12,31,36])))"
   ]
  },
  {
   "cell_type": "code",
   "execution_count": null,
   "metadata": {},
   "outputs": [],
   "source": []
  },
  {
   "cell_type": "code",
   "execution_count": 17,
   "metadata": {},
   "outputs": [],
   "source": [
    "items = list(np.arange(1,51))"
   ]
  },
  {
   "cell_type": "code",
   "execution_count": 70,
   "metadata": {},
   "outputs": [
    {
     "data": {
      "text/plain": [
       "[4, 5, 7, 9, 14, 22, 27, 28, 31, 45]"
      ]
     },
     "execution_count": 70,
     "metadata": {},
     "output_type": "execute_result"
    }
   ],
   "source": [
    "t = Apriori(bakery1000M, items, .09)\n",
    "t"
   ]
  },
  {
   "cell_type": "code",
   "execution_count": 177,
   "metadata": {},
   "outputs": [],
   "source": [
    "output = Apriori(bakery1000M, items, .04)"
   ]
  },
  {
   "cell_type": "code",
   "execution_count": null,
   "metadata": {},
   "outputs": [],
   "source": []
  },
  {
   "cell_type": "code",
   "execution_count": null,
   "metadata": {},
   "outputs": [],
   "source": []
  },
  {
   "cell_type": "code",
   "execution_count": 178,
   "metadata": {},
   "outputs": [
    {
     "data": {
      "text/plain": [
       "[None,\n",
       " [2,\n",
       "  7,\n",
       "  10,\n",
       "  11,\n",
       "  13,\n",
       "  14,\n",
       "  15,\n",
       "  17,\n",
       "  20,\n",
       "  21,\n",
       "  23,\n",
       "  24,\n",
       "  26,\n",
       "  28,\n",
       "  29,\n",
       "  30,\n",
       "  33,\n",
       "  34,\n",
       "  37,\n",
       "  39,\n",
       "  40,\n",
       "  41,\n",
       "  42,\n",
       "  43,\n",
       "  44,\n",
       "  45,\n",
       "  46,\n",
       "  47,\n",
       "  48,\n",
       "  49],\n",
       " array([[27, 28],\n",
       "        [16, 32],\n",
       "        [ 1, 19],\n",
       "        [18, 35],\n",
       "        [ 3, 18],\n",
       "        [ 4,  9],\n",
       "        [ 5, 22]]),\n",
       " [array([12, 31, 36])],\n",
       " []]"
      ]
     },
     "execution_count": 178,
     "metadata": {},
     "output_type": "execute_result"
    }
   ],
   "source": [
    "output"
   ]
  },
  {
   "cell_type": "code",
   "execution_count": null,
   "metadata": {},
   "outputs": [],
   "source": []
  },
  {
   "cell_type": "code",
   "execution_count": null,
   "metadata": {},
   "outputs": [],
   "source": []
  },
  {
   "cell_type": "code",
   "execution_count": null,
   "metadata": {},
   "outputs": [],
   "source": []
  },
  {
   "cell_type": "code",
   "execution_count": null,
   "metadata": {},
   "outputs": [],
   "source": []
  },
  {
   "cell_type": "code",
   "execution_count": null,
   "metadata": {},
   "outputs": [],
   "source": []
  },
  {
   "cell_type": "code",
   "execution_count": null,
   "metadata": {},
   "outputs": [],
   "source": []
  },
  {
   "cell_type": "code",
   "execution_count": null,
   "metadata": {},
   "outputs": [],
   "source": []
  },
  {
   "cell_type": "code",
   "execution_count": null,
   "metadata": {},
   "outputs": [],
   "source": []
  },
  {
   "cell_type": "code",
   "execution_count": null,
   "metadata": {},
   "outputs": [],
   "source": []
  },
  {
   "cell_type": "code",
   "execution_count": null,
   "metadata": {},
   "outputs": [],
   "source": []
  },
  {
   "cell_type": "code",
   "execution_count": null,
   "metadata": {},
   "outputs": [],
   "source": []
  },
  {
   "cell_type": "code",
   "execution_count": null,
   "metadata": {},
   "outputs": [],
   "source": []
  },
  {
   "cell_type": "code",
   "execution_count": null,
   "metadata": {},
   "outputs": [],
   "source": []
  },
  {
   "cell_type": "code",
   "execution_count": null,
   "metadata": {},
   "outputs": [],
   "source": []
  },
  {
   "cell_type": "code",
   "execution_count": null,
   "metadata": {},
   "outputs": [],
   "source": []
  },
  {
   "cell_type": "code",
   "execution_count": null,
   "metadata": {},
   "outputs": [],
   "source": []
  },
  {
   "cell_type": "code",
   "execution_count": null,
   "metadata": {},
   "outputs": [],
   "source": []
  },
  {
   "cell_type": "code",
   "execution_count": null,
   "metadata": {},
   "outputs": [],
   "source": []
  },
  {
   "cell_type": "code",
   "execution_count": null,
   "metadata": {},
   "outputs": [],
   "source": []
  },
  {
   "cell_type": "code",
   "execution_count": null,
   "metadata": {},
   "outputs": [],
   "source": []
  },
  {
   "cell_type": "code",
   "execution_count": null,
   "metadata": {},
   "outputs": [],
   "source": []
  },
  {
   "cell_type": "code",
   "execution_count": null,
   "metadata": {},
   "outputs": [],
   "source": []
  },
  {
   "cell_type": "code",
   "execution_count": null,
   "metadata": {},
   "outputs": [],
   "source": []
  },
  {
   "cell_type": "code",
   "execution_count": 105,
   "metadata": {},
   "outputs": [
    {
     "data": {
      "text/plain": [
       "[None,\n",
       " [1,\n",
       "  2,\n",
       "  3,\n",
       "  4,\n",
       "  5,\n",
       "  7,\n",
       "  9,\n",
       "  11,\n",
       "  12,\n",
       "  13,\n",
       "  14,\n",
       "  15,\n",
       "  16,\n",
       "  17,\n",
       "  18,\n",
       "  19,\n",
       "  22,\n",
       "  23,\n",
       "  24,\n",
       "  27,\n",
       "  28,\n",
       "  29,\n",
       "  30,\n",
       "  31,\n",
       "  32,\n",
       "  33,\n",
       "  35,\n",
       "  36,\n",
       "  37,\n",
       "  39,\n",
       "  40,\n",
       "  41,\n",
       "  42,\n",
       "  43,\n",
       "  44,\n",
       "  45,\n",
       "  46,\n",
       "  47,\n",
       "  48,\n",
       "  49],\n",
       " [array([27, 28]), array([ 5, 22])],\n",
       " []]"
      ]
     },
     "execution_count": 105,
     "metadata": {},
     "output_type": "execute_result"
    }
   ],
   "source": [
    "output"
   ]
  },
  {
   "cell_type": "code",
   "execution_count": null,
   "metadata": {},
   "outputs": [],
   "source": []
  },
  {
   "cell_type": "code",
   "execution_count": null,
   "metadata": {},
   "outputs": [],
   "source": []
  },
  {
   "cell_type": "code",
   "execution_count": null,
   "metadata": {},
   "outputs": [],
   "source": []
  },
  {
   "cell_type": "code",
   "execution_count": null,
   "metadata": {},
   "outputs": [],
   "source": []
  },
  {
   "cell_type": "code",
   "execution_count": null,
   "metadata": {},
   "outputs": [],
   "source": []
  },
  {
   "cell_type": "code",
   "execution_count": null,
   "metadata": {},
   "outputs": [],
   "source": []
  },
  {
   "cell_type": "code",
   "execution_count": null,
   "metadata": {},
   "outputs": [],
   "source": []
  },
  {
   "cell_type": "code",
   "execution_count": null,
   "metadata": {},
   "outputs": [],
   "source": []
  },
  {
   "cell_type": "code",
   "execution_count": 90,
   "metadata": {},
   "outputs": [
    {
     "data": {
      "text/plain": [
       "[None, [4, 5, 7, 9, 14, 22, 27, 28, 31, 45], []]"
      ]
     },
     "execution_count": 90,
     "metadata": {},
     "output_type": "execute_result"
    }
   ],
   "source": [
    "output"
   ]
  },
  {
   "cell_type": "code",
   "execution_count": null,
   "metadata": {},
   "outputs": [],
   "source": []
  },
  {
   "cell_type": "code",
   "execution_count": null,
   "metadata": {},
   "outputs": [],
   "source": []
  },
  {
   "cell_type": "code",
   "execution_count": 76,
   "metadata": {},
   "outputs": [
    {
     "data": {
      "text/plain": [
       "[(5, 9),\n",
       " (4, 7),\n",
       " (5, 31),\n",
       " (9, 45),\n",
       " (9, 22),\n",
       " (4, 27),\n",
       " (4, 45),\n",
       " (4, 22),\n",
       " (28, 45),\n",
       " (4, 31),\n",
       " (22, 31),\n",
       " (14, 22),\n",
       " (4, 9),\n",
       " (14, 31),\n",
       " (22, 45),\n",
       " (22, 27),\n",
       " (9, 28),\n",
       " (27, 45),\n",
       " (14, 27),\n",
       " (5, 22),\n",
       " (7, 28),\n",
       " (22, 28),\n",
       " (27, 28),\n",
       " (14, 28),\n",
       " (7, 14),\n",
       " (4, 28),\n",
       " (9, 14),\n",
       " (28, 31),\n",
       " (4, 5),\n",
       " (7, 27),\n",
       " (7, 45),\n",
       " (4, 14),\n",
       " (7, 31),\n",
       " (9, 31),\n",
       " (27, 31),\n",
       " (7, 22),\n",
       " (5, 28),\n",
       " (7, 9),\n",
       " (9, 27),\n",
       " (5, 7),\n",
       " (5, 45),\n",
       " (14, 45),\n",
       " (5, 14),\n",
       " (31, 45),\n",
       " (5, 27)]"
      ]
     },
     "execution_count": 76,
     "metadata": {},
     "output_type": "execute_result"
    }
   ],
   "source": [
    "[tuple(x) for x in candidateGen(t,1)]"
   ]
  },
  {
   "cell_type": "code",
   "execution_count": 86,
   "metadata": {},
   "outputs": [
    {
     "data": {
      "text/plain": [
       "True"
      ]
     },
     "execution_count": 86,
     "metadata": {},
     "output_type": "execute_result"
    }
   ],
   "source": [
    "set(tuple(np.array([1,2]))) <= set(tuple(np.array([1,2,7, 9])))"
   ]
  },
  {
   "cell_type": "code",
   "execution_count": null,
   "metadata": {},
   "outputs": [],
   "source": []
  },
  {
   "cell_type": "code",
   "execution_count": null,
   "metadata": {},
   "outputs": [],
   "source": []
  },
  {
   "cell_type": "code",
   "execution_count": null,
   "metadata": {},
   "outputs": [],
   "source": []
  },
  {
   "cell_type": "code",
   "execution_count": null,
   "metadata": {},
   "outputs": [],
   "source": []
  },
  {
   "cell_type": "code",
   "execution_count": null,
   "metadata": {},
   "outputs": [],
   "source": []
  },
  {
   "cell_type": "code",
   "execution_count": null,
   "metadata": {},
   "outputs": [],
   "source": []
  },
  {
   "cell_type": "code",
   "execution_count": null,
   "metadata": {},
   "outputs": [],
   "source": []
  },
  {
   "cell_type": "code",
   "execution_count": null,
   "metadata": {},
   "outputs": [],
   "source": []
  },
  {
   "cell_type": "code",
   "execution_count": null,
   "metadata": {},
   "outputs": [],
   "source": []
  },
  {
   "cell_type": "code",
   "execution_count": null,
   "metadata": {},
   "outputs": [],
   "source": []
  },
  {
   "cell_type": "code",
   "execution_count": null,
   "metadata": {},
   "outputs": [],
   "source": []
  },
  {
   "cell_type": "code",
   "execution_count": null,
   "metadata": {},
   "outputs": [],
   "source": []
  },
  {
   "cell_type": "code",
   "execution_count": null,
   "metadata": {},
   "outputs": [],
   "source": []
  },
  {
   "cell_type": "code",
   "execution_count": null,
   "metadata": {},
   "outputs": [],
   "source": []
  },
  {
   "cell_type": "code",
   "execution_count": null,
   "metadata": {},
   "outputs": [],
   "source": []
  },
  {
   "cell_type": "code",
   "execution_count": null,
   "metadata": {},
   "outputs": [],
   "source": []
  },
  {
   "cell_type": "code",
   "execution_count": null,
   "metadata": {},
   "outputs": [],
   "source": []
  },
  {
   "cell_type": "code",
   "execution_count": null,
   "metadata": {},
   "outputs": [],
   "source": []
  },
  {
   "cell_type": "code",
   "execution_count": null,
   "metadata": {},
   "outputs": [],
   "source": []
  },
  {
   "cell_type": "code",
   "execution_count": null,
   "metadata": {},
   "outputs": [],
   "source": []
  },
  {
   "cell_type": "code",
   "execution_count": null,
   "metadata": {},
   "outputs": [],
   "source": []
  },
  {
   "cell_type": "code",
   "execution_count": null,
   "metadata": {},
   "outputs": [],
   "source": []
  }
 ],
 "metadata": {
  "kernelspec": {
   "display_name": "Python 3",
   "language": "python",
   "name": "python3"
  },
  "language_info": {
   "codemirror_mode": {
    "name": "ipython",
    "version": 3
   },
   "file_extension": ".py",
   "mimetype": "text/x-python",
   "name": "python",
   "nbconvert_exporter": "python",
   "pygments_lexer": "ipython3",
   "version": "3.6.0"
  }
 },
 "nbformat": 4,
 "nbformat_minor": 2
}
