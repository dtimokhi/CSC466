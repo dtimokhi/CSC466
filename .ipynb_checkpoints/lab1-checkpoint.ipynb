{
 "cells": [
  {
   "cell_type": "code",
   "execution_count": 1,
   "metadata": {},
   "outputs": [],
   "source": [
    "import pandas as pd\n",
    "import numpy as np\n",
    "import itertools"
   ]
  },
  {
   "cell_type": "markdown",
   "metadata": {},
   "source": [
    "Read in Bakery datasets"
   ]
  },
  {
   "cell_type": "code",
   "execution_count": 29,
   "metadata": {},
   "outputs": [],
   "source": [
    "bakery1000 = pd.read_csv('/Users/Dima/Desktop/CSC466/apriori/1000/1000-out1.csv',sep = '\\n', header = None)\n",
    "bakery1000Mtemp = bakery1000.ix[:,0].values\n",
    "bakery1000M = [list(map(int, x.split(','))) for x in bakery1000Mtemp]\n",
    "for x in bakery1000M:\n",
    "    del x[0]"
   ]
  },
  {
   "cell_type": "code",
   "execution_count": 3,
   "metadata": {},
   "outputs": [],
   "source": [
    "bakery5000 = pd.read_csv('/Users/Dima/Desktop/CSC466/apriori/5000/5000-out1.csv',sep = '\\n', header = None)\n",
    "bakery5000Mtemp = bakery5000.ix[:,0].values\n",
    "bakery5000M = [list(map(int, x.split(','))) for x in bakery5000Mtemp]"
   ]
  },
  {
   "cell_type": "code",
   "execution_count": 52,
   "metadata": {},
   "outputs": [],
   "source": [
    "bakery20000 = pd.read_csv('/Users/Dima/Desktop/CSC466/apriori/20000/20000-out1.csv',sep = '\\n', header = None)\n",
    "bakery20000Mtemp = bakery20000.ix[:,0].values\n",
    "bakery20000M = [list(map(int, x.split(','))) for x in bakery20000Mtemp]\n",
    "for x in bakery20000M:\n",
    "    del x[0]"
   ]
  },
  {
   "cell_type": "code",
   "execution_count": 96,
   "metadata": {},
   "outputs": [],
   "source": [
    "exampleData = pd.read_csv('/Users/Dima/Desktop/CSC466/example/out1.csv', sep = '\\n', header = None)\n",
    "exampleDataTemp = exampleData.ix[:,0].values\n",
    "exampleDataM = [list(map(int, x.split(','))) for x in exampleDataTemp]"
   ]
  },
  {
   "cell_type": "code",
   "execution_count": 98,
   "metadata": {},
   "outputs": [],
   "source": [
    "for x in exampleDataM:\n",
    "    del x[0]"
   ]
  },
  {
   "cell_type": "code",
   "execution_count": 173,
   "metadata": {},
   "outputs": [
    {
     "name": "stdout",
     "output_type": "stream",
     "text": [
      "[ 1  9 12 14 15 16 22 36 49]\n",
      "deleteed  [ 1  9 12 14 15 16 22 36 49]\n",
      "[ 9 22]  +  9\n",
      "deleeeeted2  [ 1  9 12 14 15 16 22 36 49]\n",
      "deleeeeted2 after   [ 1  9 12 14 15 16 22 36 49]\n",
      "deleteed  [ 1  9 12 14 15 16 22 36 49]\n",
      "deleteed  [ 1  9 12 14 15 16 22 36 49]\n",
      "deleteed  [ 1  9 12 14 15 16 22 36 49]\n",
      "deleteed  [ 1  9 12 14 15 16 22 36 49]\n",
      "[ 9 22]  +  22\n",
      "deleeeeted2  [ 1  9 12 14 15 16 22 36 49]\n",
      "deleeeeted2 after   [ 1  9 12 14 15 16 22 36 49]\n",
      "deleteed  [ 1  9 12 14 15 16 22 36 49]\n",
      "deleteed  [ 1  9 12 14 15 16 22 36 49]\n",
      "deleteed  [ 1  9 12 14 15 16 22 36 49]\n",
      "deleteed  [ 1  9 12 14 15 16 22 36 49]\n",
      "[12 16]  +  12\n",
      "deleeeeted2  [ 1  9 12 14 15 16 22 36 49]\n",
      "deleeeeted2 after   [ 1  9 12 14 15 16 22 36 49]\n",
      "deleteed  [ 1  9 12 14 15 16 22 36 49]\n",
      "deleteed  [ 1  9 12 14 15 16 22 36 49]\n",
      "[12 16]  +  16\n",
      "deleeeeted2  [ 1  9 12 14 15 16 22 36 49]\n",
      "deleeeeted2 after   [ 1  9 12 14 15 16 22 36 49]\n",
      "deleteed  [ 1  9 12 14 15 16 22 36 49]\n",
      "deleteed  [ 1  9 12 14 15 16 22 36 49]\n",
      "deleteed  [ 1  9 12 14 15 16 22 36 49]\n",
      "deleteed  [ 1  9 12 14 15 16 22 36 49]\n",
      "deleteed  [ 1  9 12 14 15 16 22 36 49]\n",
      "deleteed  [ 1  9 12 14 15 16 22 36 49]\n",
      "deleteed  [ 1  9 12 14 15 16 22 36 49]\n",
      "[15 36]  +  15\n",
      "deleeeeted2  [ 1  9 12 14 15 16 22 36 49]\n",
      "deleeeeted2 after   [ 1  9 12 14 15 16 22 36 49]\n",
      "deleteed  [ 1  9 12 14 15 16 22 36 49]\n",
      "deleteed  [ 1  9 12 14 15 16 22 36 49]\n",
      "[15 36]  +  36\n",
      "deleeeeted2  [ 1  9 12 14 15 16 22 36 49]\n",
      "deleeeeted2 after   [ 1  9 12 14 15 16 22 36 49]\n",
      "deleteed  [ 1  9 12 14 15 16 22 36 49]\n",
      "deleteed  [ 1  9 12 14 15 16 22 36 49]\n",
      "deleteed  [ 1  9 12 14 15 16 22 36 49]\n",
      "[12 14]  +  12\n",
      "deleeeeted2  [ 1  9 12 14 15 16 22 36 49]\n",
      "deleeeeted2 after   [ 1  9 12 14 15 16 22 36 49]\n",
      "[12 14]  +  14\n",
      "deleeeeted2  [ 1  9 12 14 15 16 22 36 49]\n",
      "deleeeeted2 after   [ 1  9 12 14 15 16 22 36 49]\n",
      "deleteed  [ 1  9 12 14 15 16 22 36 49]\n",
      "deleteed  [ 1  9 12 14 15 16 22 36 49]\n",
      "deleteed  [ 1  9 12 14 15 16 22 36 49]\n",
      "deleteed  [ 1  9 12 14 15 16 22 36 49]\n",
      "deleteed  [ 1  9 12 14 15 16 22 36 49]\n",
      "deleteed  [ 1  9 12 14 15 16 22 36 49]\n",
      "deleteed  [ 1  9 12 14 15 16 22 36 49]\n",
      "deleteed  [ 1  9 12 14 15 16 22 36 49]\n",
      "[14 16]  +  14\n",
      "deleeeeted2  [ 1  9 12 14 15 16 22 36 49]\n",
      "deleeeeted2 after   [ 1  9 12 14 15 16 22 36 49]\n",
      "deleteed  [ 1  9 12 14 15 16 22 36 49]\n",
      "[14 16]  +  16\n",
      "deleeeeted2  [ 1  9 12 14 15 16 22 36 49]\n",
      "deleeeeted2 after   [ 1  9 12 14 15 16 22 36 49]\n",
      "deleteed  [ 1  9 12 14 15 16 22 36 49]\n",
      "deleteed  [ 1  9 12 14 15 16 22 36 49]\n",
      "deleteed  [ 1  9 12 14 15 16 22 36 49]\n",
      "[ 1 49]  +  1\n",
      "deleeeeted2  [ 1  9 12 14 15 16 22 36 49]\n",
      "deleeeeted2 after   [ 1  9 12 14 15 16 22 36 49]\n",
      "deleteed  [ 1  9 12 14 15 16 22 36 49]\n",
      "deleteed  [ 1  9 12 14 15 16 22 36 49]\n",
      "deleteed  [ 1  9 12 14 15 16 22 36 49]\n",
      "deleteed  [ 1  9 12 14 15 16 22 36 49]\n",
      "deleteed  [ 1  9 12 14 15 16 22 36 49]\n",
      "deleteed  [ 1  9 12 14 15 16 22 36 49]\n",
      "deleteed  [ 1  9 12 14 15 16 22 36 49]\n",
      "[ 1 49]  +  49\n",
      "deleeeeted2  [ 1  9 12 14 15 16 22 36 49]\n",
      "deleeeeted2 after   [ 1  9 12 14 15 16 22 36 49]\n",
      "deleteed  [[ 9 22]\n",
      " [12 16]\n",
      " [15 36]\n",
      " [12 14]\n",
      " [14 16]\n",
      " [ 1 49]]\n",
      "deleteed  [[ 9 22]\n",
      " [12 16]\n",
      " [15 36]\n",
      " [12 14]\n",
      " [14 16]\n",
      " [ 1 49]]\n",
      "deleteed  [[ 9 22]\n",
      " [12 16]\n",
      " [15 36]\n",
      " [12 14]\n",
      " [14 16]\n",
      " [ 1 49]]\n",
      "deleteed  [[ 9 22]\n",
      " [12 16]\n",
      " [15 36]\n",
      " [12 14]\n",
      " [14 16]\n",
      " [ 1 49]]\n",
      "deleteed  [[ 9 22]\n",
      " [12 16]\n",
      " [15 36]\n",
      " [12 14]\n",
      " [14 16]\n",
      " [ 1 49]]\n",
      "deleteed  [[ 9 22]\n",
      " [12 16]\n",
      " [15 36]\n",
      " [12 14]\n",
      " [14 16]\n",
      " [ 1 49]]\n"
     ]
    }
   ],
   "source": [
    "output = Apriori(exampleDataM, minSup=.1)"
   ]
  },
  {
   "cell_type": "code",
   "execution_count": 174,
   "metadata": {},
   "outputs": [
    {
     "data": {
      "text/plain": [
       "[array([ 1,  9, 12, 14, 15, 16, 22, 36, 49,  1,  9, 12, 14, 15, 16, 22, 36,\n",
       "        49,  1,  9, 12, 14, 15, 16, 22, 36, 49,  1,  9, 12, 14, 15, 16, 22,\n",
       "        36, 49,  1,  9, 12, 14, 15, 16, 22, 36, 49,  1,  9, 12, 14, 15, 16,\n",
       "        22, 36, 49]), array([[ 9, 22],\n",
       "        [12, 16],\n",
       "        [15, 36],\n",
       "        [12, 14],\n",
       "        [14, 16],\n",
       "        [ 1, 49]]), array([], dtype=float64)]"
      ]
     },
     "execution_count": 174,
     "metadata": {},
     "output_type": "execute_result"
    }
   ],
   "source": [
    "output"
   ]
  },
  {
   "cell_type": "code",
   "execution_count": null,
   "metadata": {},
   "outputs": [],
   "source": []
  },
  {
   "cell_type": "code",
   "execution_count": null,
   "metadata": {},
   "outputs": [],
   "source": []
  },
  {
   "cell_type": "code",
   "execution_count": null,
   "metadata": {},
   "outputs": [],
   "source": []
  },
  {
   "cell_type": "code",
   "execution_count": null,
   "metadata": {},
   "outputs": [],
   "source": []
  },
  {
   "cell_type": "code",
   "execution_count": null,
   "metadata": {},
   "outputs": [],
   "source": []
  },
  {
   "cell_type": "code",
   "execution_count": null,
   "metadata": {},
   "outputs": [],
   "source": []
  },
  {
   "cell_type": "code",
   "execution_count": null,
   "metadata": {},
   "outputs": [],
   "source": []
  },
  {
   "cell_type": "code",
   "execution_count": null,
   "metadata": {},
   "outputs": [],
   "source": []
  },
  {
   "cell_type": "code",
   "execution_count": 164,
   "metadata": {},
   "outputs": [
    {
     "data": {
      "text/plain": [
       "[array([-1,  9, 12, 14, 15, 16, 22, 36, 49]), array([[12, 16],\n",
       "        [15, 36],\n",
       "        [14, 16]]), array([[12, 14, 16]])]"
      ]
     },
     "execution_count": 164,
     "metadata": {},
     "output_type": "execute_result"
    }
   ],
   "source": [
    "output"
   ]
  },
  {
   "cell_type": "code",
   "execution_count": null,
   "metadata": {},
   "outputs": [],
   "source": []
  },
  {
   "cell_type": "code",
   "execution_count": null,
   "metadata": {},
   "outputs": [],
   "source": []
  },
  {
   "cell_type": "code",
   "execution_count": 109,
   "metadata": {},
   "outputs": [
    {
     "data": {
      "text/plain": [
       "[[-1, -1, -1, -1, -1, -1, -1, -1, -1], array([[15, 36],\n",
       "        [ 1, 49]]), [array([12, 14, 16])]]"
      ]
     },
     "execution_count": 109,
     "metadata": {},
     "output_type": "execute_result"
    }
   ],
   "source": [
    "output"
   ]
  },
  {
   "cell_type": "code",
   "execution_count": null,
   "metadata": {},
   "outputs": [],
   "source": []
  },
  {
   "cell_type": "code",
   "execution_count": 91,
   "metadata": {},
   "outputs": [
    {
     "data": {
      "text/plain": [
       "[[36], array([[15, 36],\n",
       "        [ 1, 49]]), [array([12, 14, 16])]]"
      ]
     },
     "execution_count": 91,
     "metadata": {},
     "output_type": "execute_result"
    }
   ],
   "source": [
    "output"
   ]
  },
  {
   "cell_type": "code",
   "execution_count": null,
   "metadata": {},
   "outputs": [],
   "source": []
  },
  {
   "cell_type": "code",
   "execution_count": null,
   "metadata": {},
   "outputs": [],
   "source": []
  },
  {
   "cell_type": "code",
   "execution_count": 82,
   "metadata": {},
   "outputs": [
    {
     "data": {
      "text/plain": [
       "[[36], array([[15, 36],\n",
       "        [ 1, 49]]), [array([12, 14, 16])]]"
      ]
     },
     "execution_count": 82,
     "metadata": {},
     "output_type": "execute_result"
    }
   ],
   "source": [
    "output"
   ]
  },
  {
   "cell_type": "code",
   "execution_count": 64,
   "metadata": {},
   "outputs": [
    {
     "data": {
      "text/plain": [
       "[[36], array([[15, 36],\n",
       "        [ 1, 49]]), [array([12, 14, 16])]]"
      ]
     },
     "execution_count": 64,
     "metadata": {},
     "output_type": "execute_result"
    }
   ],
   "source": [
    "output\n"
   ]
  },
  {
   "cell_type": "code",
   "execution_count": 83,
   "metadata": {},
   "outputs": [
    {
     "ename": "SyntaxError",
     "evalue": "invalid syntax (<ipython-input-83-500659672531>, line 1)",
     "output_type": "error",
     "traceback": [
      "\u001b[0;36m  File \u001b[0;32m\"<ipython-input-83-500659672531>\"\u001b[0;36m, line \u001b[0;32m1\u001b[0m\n\u001b[0;31m    9,22 remove 36\u001b[0m\n\u001b[0m              ^\u001b[0m\n\u001b[0;31mSyntaxError\u001b[0m\u001b[0;31m:\u001b[0m invalid syntax\n"
     ]
    }
   ],
   "source": [
    "9,22 remove 36"
   ]
  },
  {
   "cell_type": "code",
   "execution_count": null,
   "metadata": {},
   "outputs": [],
   "source": []
  },
  {
   "cell_type": "code",
   "execution_count": 66,
   "metadata": {},
   "outputs": [],
   "source": [
    "result = set(x for l in exampleDataM for x in l)"
   ]
  },
  {
   "cell_type": "markdown",
   "metadata": {},
   "source": [
    "Start implementation of the Apriori algorithm. "
   ]
  },
  {
   "cell_type": "code",
   "execution_count": 6,
   "metadata": {},
   "outputs": [],
   "source": [
    "def support(item, baskets):\n",
    "    top = sum([1 if item in basket else 0 for basket in baskets])\n",
    "    bottom = len(baskets)\n",
    "    return top*1.0/bottom"
   ]
  },
  {
   "cell_type": "code",
   "execution_count": 7,
   "metadata": {},
   "outputs": [],
   "source": [
    "def getPairs(F, k):\n",
    "    outList = list()\n",
    "    for first in F:\n",
    "        for second in F:\n",
    "            if first.size == second.size and first.size == k:\n",
    "                outList.append([first, second, np.unique(np.hstack(np.array([first,second])))])\n",
    "    return outList\n",
    "                "
   ]
  },
  {
   "cell_type": "code",
   "execution_count": 8,
   "metadata": {},
   "outputs": [],
   "source": [
    "def checkSubset(F, check, k):\n",
    "    out = False\n",
    "    if k >= 2:\n",
    "        for val in F:\n",
    "            if np.array_equal(val,check) == True:\n",
    "                out = True\n",
    "    else:\n",
    "        if check in F:\n",
    "            out = True\n",
    "    return out"
   ]
  },
  {
   "cell_type": "markdown",
   "metadata": {},
   "source": [
    "This works :)"
   ]
  },
  {
   "cell_type": "code",
   "execution_count": 12,
   "metadata": {},
   "outputs": [],
   "source": [
    "def candidateGen(F, k):\n",
    "    C = []\n",
    "    for pair in getPairs(F,k):\n",
    "        if pair[2].size == pair[0].size + 1:\n",
    "            c = pair[2]\n",
    "            flag = True\n",
    "            for s in list(itertools.combinations(c, c.size - 1)):\n",
    "                if checkSubset(F,s,k) == False:\n",
    "                    flag = False\n",
    "            if flag == True:\n",
    "                if len(set(c)) == len(c) != True:\n",
    "                    C.append(list(c))\n",
    "    uniqueC = [list(x) for x in set(tuple(x) for x in C)]\n",
    "    arrayC = [np.array(x) for x in uniqueC]\n",
    "    return arrayC"
   ]
  },
  {
   "cell_type": "markdown",
   "metadata": {},
   "source": [
    "This isnt dont either."
   ]
  },
  {
   "cell_type": "code",
   "execution_count": 172,
   "metadata": {},
   "outputs": [],
   "source": [
    "def Apriori(T, minSup):\n",
    "    I =  np.array(list(set(x for l in T for x in l)))\n",
    "    Fk = []; Fk.append(None);\n",
    "    firstIter = np.array(list(filter(lambda a: a != -1, [x if support(x, T) >= minSup else -1 for x in I])))\n",
    "    print(firstIter)\n",
    "    Fk.append(firstIter)\n",
    "    k = 2\n",
    "    while len(Fk[k-1]) != 0:\n",
    "        Ck = candidateGen(Fk[k-1], k-1)\n",
    "        count = {}\n",
    "        for c in Ck:\n",
    "            count[tuple(c)] = 0\n",
    "        for t in T:\n",
    "            for c in Ck:\n",
    "                if set(tuple(c)) <= set(tuple(t)):\n",
    "                    count[tuple(c)] += 1\n",
    "        tmpFk = []\n",
    "        for c in Ck:\n",
    "            if count[tuple(c)]*1.0/len(T) >= minSup:\n",
    "                tmpFk.append(c)\n",
    "        Fk.append(np.array(tmpFk))\n",
    "        for j, newTerm in enumerate(Fk[k]):\n",
    "            for i, term in enumerate(Fk[k-1]):\n",
    "                if k-1 == 1 and newTerm.__contains__(term):\n",
    "                    print(\"deleteed \", Fk[k-1])\n",
    "                    Fk[k-1][i] = -1\n",
    "                    \n",
    "                elif k-1 > 1 and  set(tuple(term)) <= set(tuple(newTerm)):\n",
    "                    print(newTerm, \" + \", term)\n",
    "                    print(\"deleeeeted2 \",Fk[k-1])\n",
    "                    Fk[k-1] = np.array(np.delete(Fk[k-1], i, 0))\n",
    "                    print(\"deleeeeted2 after  \",Fk[k-1])\n",
    "\n",
    "        k = k + 1\n",
    "    Fk = Fk[1:-1]\n",
    "    return Fk"
   ]
  },
  {
   "cell_type": "code",
   "execution_count": null,
   "metadata": {},
   "outputs": [],
   "source": []
  },
  {
   "cell_type": "code",
   "execution_count": null,
   "metadata": {},
   "outputs": [],
   "source": []
  },
  {
   "cell_type": "code",
   "execution_count": null,
   "metadata": {},
   "outputs": [],
   "source": []
  },
  {
   "cell_type": "code",
   "execution_count": null,
   "metadata": {},
   "outputs": [],
   "source": []
  },
  {
   "cell_type": "code",
   "execution_count": null,
   "metadata": {},
   "outputs": [],
   "source": []
  },
  {
   "cell_type": "code",
   "execution_count": null,
   "metadata": {},
   "outputs": [],
   "source": []
  },
  {
   "cell_type": "code",
   "execution_count": null,
   "metadata": {},
   "outputs": [],
   "source": []
  },
  {
   "cell_type": "code",
   "execution_count": null,
   "metadata": {},
   "outputs": [],
   "source": []
  },
  {
   "cell_type": "code",
   "execution_count": null,
   "metadata": {},
   "outputs": [],
   "source": []
  },
  {
   "cell_type": "code",
   "execution_count": null,
   "metadata": {},
   "outputs": [],
   "source": []
  },
  {
   "cell_type": "code",
   "execution_count": null,
   "metadata": {},
   "outputs": [],
   "source": []
  },
  {
   "cell_type": "code",
   "execution_count": null,
   "metadata": {},
   "outputs": [],
   "source": []
  },
  {
   "cell_type": "code",
   "execution_count": null,
   "metadata": {},
   "outputs": [],
   "source": []
  },
  {
   "cell_type": "code",
   "execution_count": null,
   "metadata": {},
   "outputs": [],
   "source": []
  },
  {
   "cell_type": "code",
   "execution_count": null,
   "metadata": {},
   "outputs": [],
   "source": []
  },
  {
   "cell_type": "code",
   "execution_count": null,
   "metadata": {},
   "outputs": [],
   "source": []
  },
  {
   "cell_type": "code",
   "execution_count": null,
   "metadata": {},
   "outputs": [],
   "source": []
  },
  {
   "cell_type": "code",
   "execution_count": null,
   "metadata": {},
   "outputs": [],
   "source": []
  },
  {
   "cell_type": "code",
   "execution_count": null,
   "metadata": {},
   "outputs": [],
   "source": []
  },
  {
   "cell_type": "code",
   "execution_count": null,
   "metadata": {},
   "outputs": [],
   "source": []
  },
  {
   "cell_type": "code",
   "execution_count": null,
   "metadata": {},
   "outputs": [],
   "source": []
  },
  {
   "cell_type": "code",
   "execution_count": null,
   "metadata": {},
   "outputs": [],
   "source": []
  },
  {
   "cell_type": "code",
   "execution_count": null,
   "metadata": {},
   "outputs": [],
   "source": []
  },
  {
   "cell_type": "code",
   "execution_count": null,
   "metadata": {},
   "outputs": [],
   "source": []
  },
  {
   "cell_type": "code",
   "execution_count": null,
   "metadata": {},
   "outputs": [],
   "source": []
  },
  {
   "cell_type": "code",
   "execution_count": null,
   "metadata": {},
   "outputs": [],
   "source": []
  },
  {
   "cell_type": "code",
   "execution_count": null,
   "metadata": {},
   "outputs": [],
   "source": []
  },
  {
   "cell_type": "code",
   "execution_count": null,
   "metadata": {},
   "outputs": [],
   "source": []
  },
  {
   "cell_type": "code",
   "execution_count": null,
   "metadata": {},
   "outputs": [],
   "source": []
  },
  {
   "cell_type": "code",
   "execution_count": null,
   "metadata": {},
   "outputs": [],
   "source": []
  },
  {
   "cell_type": "code",
   "execution_count": null,
   "metadata": {},
   "outputs": [],
   "source": []
  },
  {
   "cell_type": "code",
   "execution_count": null,
   "metadata": {},
   "outputs": [],
   "source": []
  },
  {
   "cell_type": "code",
   "execution_count": null,
   "metadata": {},
   "outputs": [],
   "source": []
  },
  {
   "cell_type": "code",
   "execution_count": null,
   "metadata": {},
   "outputs": [],
   "source": []
  },
  {
   "cell_type": "code",
   "execution_count": null,
   "metadata": {},
   "outputs": [],
   "source": [
    "newterm = np.array([12,36])"
   ]
  },
  {
   "cell_type": "code",
   "execution_count": null,
   "metadata": {},
   "outputs": [],
   "source": []
  },
  {
   "cell_type": "code",
   "execution_count": null,
   "metadata": {},
   "outputs": [],
   "source": []
  },
  {
   "cell_type": "code",
   "execution_count": null,
   "metadata": {},
   "outputs": [],
   "source": []
  },
  {
   "cell_type": "code",
   "execution_count": null,
   "metadata": {},
   "outputs": [],
   "source": []
  },
  {
   "cell_type": "code",
   "execution_count": 17,
   "metadata": {},
   "outputs": [
    {
     "data": {
      "text/plain": [
       "True"
      ]
     },
     "execution_count": 17,
     "metadata": {},
     "output_type": "execute_result"
    }
   ],
   "source": [
    "set(tuple(np.array([12,31]))) <= set(tuple(np.array([12,31,36])))"
   ]
  },
  {
   "cell_type": "code",
   "execution_count": null,
   "metadata": {},
   "outputs": [],
   "source": []
  },
  {
   "cell_type": "code",
   "execution_count": 18,
   "metadata": {},
   "outputs": [],
   "source": [
    "items = list(np.arange(1,51))"
   ]
  },
  {
   "cell_type": "code",
   "execution_count": 86,
   "metadata": {},
   "outputs": [
    {
     "data": {
      "text/plain": [
       "[[6, 8, 10, 13, 17, 20, 21, 25, 26, 28, 29, 30, 34, 39, 43, 47, 49],\n",
       " array([[ 1, 19],\n",
       "        [24, 41],\n",
       "        [23, 24],\n",
       "        [14, 44],\n",
       "        [ 4,  9],\n",
       "        [ 5, 22]]),\n",
       " array([[ 0,  2, 46],\n",
       "        [16, 32, 45]]),\n",
       " [array([12, 31, 36, 48])]]"
      ]
     },
     "execution_count": 86,
     "metadata": {},
     "output_type": "execute_result"
    }
   ],
   "source": [
    "t = Apriori(bakery1000M, .03)\n",
    "t"
   ]
  },
  {
   "cell_type": "code",
   "execution_count": null,
   "metadata": {},
   "outputs": [],
   "source": []
  },
  {
   "cell_type": "code",
   "execution_count": null,
   "metadata": {},
   "outputs": [],
   "source": []
  },
  {
   "cell_type": "code",
   "execution_count": null,
   "metadata": {},
   "outputs": [],
   "source": []
  },
  {
   "cell_type": "code",
   "execution_count": 58,
   "metadata": {},
   "outputs": [],
   "source": [
    "output = Apriori(bakery1000M, items, .05)"
   ]
  },
  {
   "cell_type": "code",
   "execution_count": null,
   "metadata": {},
   "outputs": [],
   "source": []
  },
  {
   "cell_type": "code",
   "execution_count": 59,
   "metadata": {},
   "outputs": [
    {
     "data": {
      "text/plain": [
       "[[1,\n",
       "  2,\n",
       "  3,\n",
       "  4,\n",
       "  7,\n",
       "  9,\n",
       "  11,\n",
       "  12,\n",
       "  13,\n",
       "  14,\n",
       "  15,\n",
       "  16,\n",
       "  17,\n",
       "  18,\n",
       "  19,\n",
       "  23,\n",
       "  24,\n",
       "  28,\n",
       "  29,\n",
       "  31,\n",
       "  32,\n",
       "  33,\n",
       "  35,\n",
       "  36,\n",
       "  37,\n",
       "  39,\n",
       "  40,\n",
       "  41,\n",
       "  42,\n",
       "  43,\n",
       "  44,\n",
       "  45,\n",
       "  46,\n",
       "  47,\n",
       "  48,\n",
       "  49],\n",
       " [array([27, 28]), array([ 5, 22])]]"
      ]
     },
     "execution_count": 59,
     "metadata": {},
     "output_type": "execute_result"
    }
   ],
   "source": [
    "output"
   ]
  },
  {
   "cell_type": "code",
   "execution_count": null,
   "metadata": {},
   "outputs": [],
   "source": []
  },
  {
   "cell_type": "code",
   "execution_count": null,
   "metadata": {},
   "outputs": [],
   "source": []
  },
  {
   "cell_type": "code",
   "execution_count": null,
   "metadata": {},
   "outputs": [],
   "source": []
  }
 ],
 "metadata": {
  "kernelspec": {
   "display_name": "Python 3",
   "language": "python",
   "name": "python3"
  },
  "language_info": {
   "codemirror_mode": {
    "name": "ipython",
    "version": 3
   },
   "file_extension": ".py",
   "mimetype": "text/x-python",
   "name": "python",
   "nbconvert_exporter": "python",
   "pygments_lexer": "ipython3",
   "version": "3.6.0"
  }
 },
 "nbformat": 4,
 "nbformat_minor": 2
}
