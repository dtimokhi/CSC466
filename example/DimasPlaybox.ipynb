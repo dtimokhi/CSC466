{
 "cells": [
  {
   "cell_type": "code",
   "execution_count": 2,
   "metadata": {},
   "outputs": [],
   "source": [
    "import pandas as pd\n",
    "import numpy as np\n",
    "import itertools"
   ]
  },
  {
   "cell_type": "code",
   "execution_count": 3,
   "metadata": {},
   "outputs": [],
   "source": [
    "bakery1000 = pd.read_csv('/Users/Dima/Desktop/CSC466/apriori/1000/1000-out1.csv',sep = '\\n', header = None)\n",
    "bakery1000Mtemp = bakery1000.ix[:,0].values\n",
    "bakery1000M = [list(map(int, x.split(','))) for x in bakery1000Mtemp]\n",
    "for x in bakery1000M:\n",
    "    del x[0]"
   ]
  },
  {
   "cell_type": "code",
   "execution_count": null,
   "metadata": {},
   "outputs": [],
   "source": [
    "goods = pd.read_csv('/Users/Dima/Desktop/CSC466/apriori/goods.csv')"
   ]
  },
  {
   "cell_type": "code",
   "execution_count": 3,
   "metadata": {},
   "outputs": [],
   "source": [
    "def support(item, baskets):\n",
    "    top = sum([1 if item in basket else 0 for basket in baskets])\n",
    "    bottom = len(baskets)\n",
    "    return top*1.0/bottom"
   ]
  },
  {
   "cell_type": "code",
   "execution_count": 39,
   "metadata": {},
   "outputs": [],
   "source": [
    "def getPairs(F, k):\n",
    "    outList = []\n",
    "    for first in F:\n",
    "        for second in F:\n",
    "            if len(first) == len(second) and len(first) == k:\n",
    "                outList.append([first, second, set(set(first) | set(second))])\n",
    "    return outList             "
   ]
  },
  {
   "cell_type": "code",
   "execution_count": 5,
   "metadata": {},
   "outputs": [],
   "source": [
    "def checkSubset(F, check, k):\n",
    "    out = False\n",
    "    if k >= 2:\n",
    "        for val in F:\n",
    "            if np.array_equal(val,check) == True:\n",
    "                out = True\n",
    "    else:\n",
    "        if check in F:\n",
    "            out = True\n",
    "    return out"
   ]
  },
  {
   "cell_type": "code",
   "execution_count": 28,
   "metadata": {},
   "outputs": [],
   "source": [
    "def candidateGen(F, k):\n",
    "    C = []\n",
    "    for pair in getPairs(F,k):\n",
    "        if pair[2].size == pair[0].size + 1:\n",
    "            c = pair[2]\n",
    "            flag = True\n",
    "            for s in list(itertools.combinations(c, c.size - 1)):\n",
    "                if checkSubset(F,s,k) == False:\n",
    "                    flag = False\n",
    "            if flag == True:\n",
    "                if len(set(c)) == len(c) != True:\n",
    "                    C.append(list(c))\n",
    "    uniqueC = [list(x) for x in set(tuple(x) for x in C)]\n",
    "    arrayC = [np.array(x) for x in uniqueC]\n",
    "    return arrayC"
   ]
  },
  {
   "cell_type": "code",
   "execution_count": null,
   "metadata": {},
   "outputs": [],
   "source": [
    "def candGen(F,k):\n",
    "    C = {}\n",
    "    for pair in getPairs(F,k):\n",
    "        if len(pair[2]) == len(pair[0]) + 1:\n",
    "            c = pair[2]\n",
    "            flag = True\n",
    "            for s in "
   ]
  },
  {
   "cell_type": "code",
   "execution_count": 7,
   "metadata": {},
   "outputs": [],
   "source": [
    "def Apriori(T, minSup):\n",
    "    I =  np.array(list(set(x for l in T for x in l)))\n",
    "    Fk = []; Fk.append(None);\n",
    "    firstIter = np.array(list(filter(lambda a: a != -1, [x if support(x, T) >= minSup else -1 for x in I])))\n",
    "    print(firstIter)\n",
    "    Fk.append(firstIter)\n",
    "    k = 2\n",
    "    while len(Fk[k-1]) != 0:\n",
    "        Ck = candidateGen(Fk[k-1], k-1)\n",
    "        count = {}\n",
    "        for c in Ck:\n",
    "            count[tuple(c)] = 0\n",
    "        for t in T:\n",
    "            for c in Ck:\n",
    "                if set(tuple(c)) <= set(tuple(t)):\n",
    "                    count[tuple(c)] += 1\n",
    "        tmpFk = []\n",
    "        for c in Ck:\n",
    "            if count[tuple(c)]*1.0/len(T) >= minSup:\n",
    "                tmpFk.append(c)\n",
    "        Fk.append(np.array(tmpFk))\n",
    "        for j, newTerm in enumerate(Fk[k]):\n",
    "            for i, term in enumerate(Fk[k-1]):\n",
    "                if k-1 == 1 and newTerm.__contains__(term):\n",
    "                    print(\"deleteed \", Fk[k-1])\n",
    "                    Fk[k-1][i] = -1\n",
    "                    \n",
    "                elif k-1 > 1 and  set(tuple(term)) <= set(tuple(newTerm)):\n",
    "                    print(newTerm, \" + \", term)\n",
    "                    print(\"deleeeeted2 \",Fk[k-1])\n",
    "                    Fk[k-1] = np.array(np.delete(Fk[k-1], i, 0))\n",
    "                    print(\"deleeeeted2 after  \",Fk[k-1])\n",
    "\n",
    "        k = k + 1\n",
    "    Fk = Fk[1:-1]\n",
    "    return Fk"
   ]
  },
  {
   "cell_type": "code",
   "execution_count": 31,
   "metadata": {},
   "outputs": [],
   "source": [
    "def apriori(T, minSup):\n",
    "    I =  set(x for l in bakery1000M for x in l)\n",
    "    Fk = []; Fk.append(None);\n",
    "    firstIter = (set([y]) for y in set(filter(lambda a: a != -1, [x if support(x, T) >= minSup else -1 for x in I])))\n",
    "    Fk.append(firstIter)\n",
    "    k = 2\n",
    "    while len(Fk[k-1]) != 0:\n",
    "        Ck = candidateGen()\n",
    "    return firstIter"
   ]
  },
  {
   "cell_type": "code",
   "execution_count": 55,
   "metadata": {},
   "outputs": [],
   "source": [
    "firstIter = list(tuple([y]) for y in set(filter(lambda a: a != -1, [x if support(x, bakery1000M) >= .1 else -1 for x in I])))"
   ]
  },
  {
   "cell_type": "code",
   "execution_count": null,
   "metadata": {},
   "outputs": [],
   "source": []
  },
  {
   "cell_type": "code",
   "execution_count": null,
   "metadata": {},
   "outputs": [],
   "source": []
  },
  {
   "cell_type": "code",
   "execution_count": 56,
   "metadata": {},
   "outputs": [
    {
     "data": {
      "text/plain": [
       "[(28,), (5,), (22,)]"
      ]
     },
     "execution_count": 56,
     "metadata": {},
     "output_type": "execute_result"
    }
   ],
   "source": [
    "firstIter"
   ]
  },
  {
   "cell_type": "code",
   "execution_count": 57,
   "metadata": {},
   "outputs": [
    {
     "data": {
      "text/plain": [
       "(28,)"
      ]
     },
     "execution_count": 57,
     "metadata": {},
     "output_type": "execute_result"
    }
   ],
   "source": [
    "firstIter[0]"
   ]
  },
  {
   "cell_type": "code",
   "execution_count": 58,
   "metadata": {},
   "outputs": [
    {
     "data": {
      "text/plain": [
       "28"
      ]
     },
     "execution_count": 58,
     "metadata": {},
     "output_type": "execute_result"
    }
   ],
   "source": [
    "firstIter[0][0]"
   ]
  },
  {
   "cell_type": "code",
   "execution_count": null,
   "metadata": {},
   "outputs": [],
   "source": []
  },
  {
   "cell_type": "code",
   "execution_count": 27,
   "metadata": {},
   "outputs": [
    {
     "data": {
      "text/plain": [
       "{5, 22, 28}"
      ]
     },
     "execution_count": 27,
     "metadata": {},
     "output_type": "execute_result"
    }
   ],
   "source": [
    "apriori(bakery1000M, .1)"
   ]
  }
 ],
 "metadata": {
  "kernelspec": {
   "display_name": "Python 3",
   "language": "python",
   "name": "python3"
  },
  "language_info": {
   "codemirror_mode": {
    "name": "ipython",
    "version": 3
   },
   "file_extension": ".py",
   "mimetype": "text/x-python",
   "name": "python",
   "nbconvert_exporter": "python",
   "pygments_lexer": "ipython3",
   "version": "3.6.0"
  }
 },
 "nbformat": 4,
 "nbformat_minor": 2
}
