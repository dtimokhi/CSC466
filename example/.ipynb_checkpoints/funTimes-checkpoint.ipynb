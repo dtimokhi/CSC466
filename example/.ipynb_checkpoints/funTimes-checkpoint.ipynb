{
 "cells": [
  {
   "cell_type": "code",
   "execution_count": 60,
   "metadata": {},
   "outputs": [],
   "source": [
    "import pandas as pd\n",
    "import numpy as np\n",
    "import itertools"
   ]
  },
  {
   "cell_type": "code",
   "execution_count": 131,
   "metadata": {},
   "outputs": [],
   "source": [
    "bakery1000 = pd.read_csv('../apriori/1000/1000-out1.csv',sep = '\\n', header = None)\n",
    "bakery1000Mtemp = bakery1000.iloc[:,0].values\n",
    "bakery1000M = [list(map(int, x.split(','))) for x in bakery1000Mtemp]\n",
    "for x in bakery1000M:\n",
    "    del x[0]"
   ]
  },
  {
   "cell_type": "code",
   "execution_count": 139,
   "metadata": {},
   "outputs": [],
   "source": [
    "goods = pd.read_csv('../apriori/goods.csv')\n",
    "goods['Flavor'] = goods['Flavor'] + \"-\" + goods['Food']\n",
    "goodsDict = dict(zip(goods['Id'], goods['Flavor']))"
   ]
  },
  {
   "cell_type": "code",
   "execution_count": 63,
   "metadata": {},
   "outputs": [],
   "source": [
    "exampleData = pd.read_csv('../example/out1.csv', sep = '\\n', header = None)\n",
    "exampleDataTemp = exampleData.iloc[:,0].values\n",
    "exampleDataM = [list(map(int, x.split(','))) for x in exampleDataTemp]\n",
    "for x in exampleDataM:\n",
    "    del x[0]"
   ]
  },
  {
   "cell_type": "code",
   "execution_count": 64,
   "metadata": {},
   "outputs": [],
   "source": [
    "def support(item, baskets):\n",
    "    top = sum([1 if item in basket else 0 for basket in baskets])\n",
    "    bottom = len(baskets)\n",
    "    return top*1.0/bottom"
   ]
  },
  {
   "cell_type": "code",
   "execution_count": 14,
   "metadata": {},
   "outputs": [],
   "source": [
    "def getPairs(F, k):\n",
    "    outList = []\n",
    "    for first in F:\n",
    "        for second in F:\n",
    "            if len(first) == len(second) == k:\n",
    "                outList.append([first, second, tuple(set(first) | set(second))])\n",
    "    return outList "
   ]
  },
  {
   "cell_type": "code",
   "execution_count": 15,
   "metadata": {},
   "outputs": [],
   "source": [
    "def getSubsets(tmpTuple):\n",
    "    size = len(tmpTuple) - 1\n",
    "    return set(itertools.combinations(list(tmpTuple), size))"
   ]
  },
  {
   "cell_type": "code",
   "execution_count": 16,
   "metadata": {},
   "outputs": [],
   "source": [
    "def candidate(F,k):\n",
    "    C = set()\n",
    "    for pair in getPairs(F,k):\n",
    "        if len(pair[2]) == len(pair[0]) + 1:\n",
    "            c = pair[2]\n",
    "            flag = True\n",
    "            for s in getSubsets(c):\n",
    "                if s not in F:\n",
    "                    flag = False\n",
    "            if flag == True:\n",
    "                if c not in C:\n",
    "                    C.add(tuple(c))\n",
    "    return C"
   ]
  },
  {
   "cell_type": "code",
   "execution_count": 17,
   "metadata": {},
   "outputs": [],
   "source": [
    "def apriori(T, minSup):\n",
    "    FullSupport = []\n",
    "    I =  list(set(x for l in T for x in l))\n",
    "    Fk = []; Fk.append(None);\n",
    "    firstIter = set(tuple([x]) for x in filter(lambda a: a != -1, [x if support(x, T) >= minSup else -1 for x in I]))\n",
    "    Fk.append(firstIter)\n",
    "    k = 2\n",
    "    while len(Fk[k-1]) != 0:\n",
    "        Ck = candidate(Fk[k-1], k-1)\n",
    "        count = {}\n",
    "        for c in Ck:\n",
    "            count[c] = 0\n",
    "        for t in T:\n",
    "            for c in Ck:\n",
    "                if set(c) <= set(tuple(t)):\n",
    "                    count[c] += 1\n",
    "        tmpFk = []\n",
    "        for c in Ck:\n",
    "            if count[c]*1.0/len(T) >= minSup:\n",
    "                tmpFk.append(c)\n",
    "        Fk.append(set(tmpFk))\n",
    "        newSet = set(x for x in Fk[k-1])\n",
    "        for newTerm in Fk[k]:\n",
    "            for oldTerm in Fk[k-1]:\n",
    "                if set(oldTerm).issubset(newTerm) == True:\n",
    "                    if oldTerm in newSet:\n",
    "                        newSet.remove(oldTerm)\n",
    "                        #print(\"After: \", newSet)\n",
    "        Fk[k-1] = set(tuple(sorted(x)) for x in newSet)\n",
    "        k += 1\n",
    "    Fk = Fk[1:-1]\n",
    "    return Fk\n",
    "                    \n",
    "            \n",
    "        \n",
    "    \n",
    "    "
   ]
  },
  {
   "cell_type": "code",
   "execution_count": 18,
   "metadata": {},
   "outputs": [],
   "source": [
    "def getCorrect():\n",
    "    t = np.linspace(.05, .01, 20)\n",
    "    for minS in t:\n",
    "        ap = apriori(bakery1000M, minS)\n",
    "        print(\"---- Apriori: \", minS, \" ----\")\n",
    "        print(\"NumRules: \", len(genRules(bakery1000M, ap, .85)))\n",
    "        for i, val in enumerate(ap):\n",
    "            print(i+1, \": \", len(val))\n",
    "            "
   ]
  },
  {
   "cell_type": "code",
   "execution_count": 142,
   "metadata": {},
   "outputs": [],
   "source": [
    "def genRules(data, freqItemSet, minConf):\n",
    "    allRules = []\n",
    "    freqItemSet = freqItemSet[1:]\n",
    "    freqItemSet = [item for sublist in freqItemSet for item in sublist]\n",
    "    for itemSet in freqItemSet:\n",
    "        for item in itemSet:\n",
    "            noItem=set(itemSet)-(set([item]))\n",
    "            item = set([item])\n",
    "            conf = confidence(data,noItem,item)\n",
    "            sup = supportOut(data,noItem,item)\n",
    "            confItem = [noItem, item, conf, sup]\n",
    "            if conf >= minConf:\n",
    "                allRules.append(confItem)\n",
    "                \n",
    "    #allRules = sorted(allRules, key = lambda x: x[2])\n",
    "    return allRules\n",
    "                    "
   ]
  },
  {
   "cell_type": "code",
   "execution_count": 67,
   "metadata": {},
   "outputs": [],
   "source": [
    "def confidence(T,set1,set2): #Dataset,leftSideList,rightSideList\n",
    "    top = sum([1 if (set1|set2) <= set(basket) else 0 for basket in T])\n",
    "    bottom = sum([1 if (set1) <= set(basket) else 0 for basket in T])\n",
    "    if(bottom == 0 | top == 0):\n",
    "        return 0\n",
    "    return top*1.0/bottom"
   ]
  },
  {
   "cell_type": "code",
   "execution_count": 71,
   "metadata": {},
   "outputs": [],
   "source": [
    "def supportOut(T, set1,set2):\n",
    "    return sum([1 if (set1|set2) <= set(basket) else 0 for basket in T])/len(T)"
   ]
  },
  {
   "cell_type": "code",
   "execution_count": 52,
   "metadata": {},
   "outputs": [],
   "source": [
    "def addNames(output, goods):\n",
    "    ruleList = []\n",
    "    for i, rule in enumerate(output):\n",
    "        termList = []\n",
    "        for j, terms in enumerate(rule[:-2]):\n",
    "            setList = []\n",
    "            for k, objectId in enumerate(list(terms)):\n",
    "                setList.append(goods[objectId])\n",
    "            termList.append(setList)\n",
    "        termList.append(rule[2])\n",
    "        termList.append(rule[3])\n",
    "        ruleList.append(termList)\n",
    "    return ruleList\n",
    "\n",
    "    "
   ]
  },
  {
   "cell_type": "code",
   "execution_count": 91,
   "metadata": {},
   "outputs": [],
   "source": [
    "def printCorrectly(output):\n",
    "    for i, rule in enumerate(output):\n",
    "        print(\"Rule: \", i, '   ', ','.join(rule[0]), \" --> \", \n",
    "                rule[1][0]) \n",
    "        print(\"              Support: \", str(rule[3]))\n",
    "        print(\"              Confidence: \", str(rule[2]))\n",
    "        "
   ]
  },
  {
   "cell_type": "code",
   "execution_count": 98,
   "metadata": {},
   "outputs": [],
   "source": [
    "def findRules(T, minSup, minConf, goodsDictTmp, bakery = False):\n",
    "    aprioriOutput = apriori(T, minSup)\n",
    "    genRulesOutput = genRules(T, aprioriOutput, minConf)\n",
    "    if(bakery == True):\n",
    "        genRulesOutput = addNames(genRulesOutput, goodsDictTmp)\n",
    "    printCorrectly(genRulesOutput)\n",
    "    "
   ]
  },
  {
   "cell_type": "code",
   "execution_count": 143,
   "metadata": {},
   "outputs": [
    {
     "name": "stdout",
     "output_type": "stream",
     "text": [
      "Rule:  0     'Cherry'-'Soda','Apple'-'Croissant'  -->  'Apple'-'Tart'\n",
      "              Support:  0.031\n",
      "              Confidence:  0.9393939393939394\n",
      "Rule:  1     'Cherry'-'Soda','Apple'-'Tart'  -->  'Apple'-'Croissant'\n",
      "              Support:  0.031\n",
      "              Confidence:  0.8611111111111112\n",
      "Rule:  2     'Single'-'Espresso','Blackberry'-'Tart'  -->  'Coffee'-'Eclair'\n",
      "              Support:  0.023\n",
      "              Confidence:  0.9583333333333334\n",
      "Rule:  3     'Single'-'Espresso','Coffee'-'Eclair'  -->  'Blackberry'-'Tart'\n",
      "              Support:  0.023\n",
      "              Confidence:  0.9583333333333334\n",
      "Rule:  4     'Cherry'-'Soda','Apple'-'Danish'  -->  'Apple'-'Croissant'\n",
      "              Support:  0.031\n",
      "              Confidence:  0.9393939393939394\n",
      "Rule:  5     'Cherry'-'Soda','Apple'-'Croissant'  -->  'Apple'-'Danish'\n",
      "              Support:  0.031\n",
      "              Confidence:  0.9393939393939394\n",
      "Rule:  6     'Lemon'-'Lemonade','Raspberry'-'Lemonade'  -->  'Lemon'-'Cookie'\n",
      "              Support:  0.028\n",
      "              Confidence:  0.9655172413793104\n",
      "Rule:  7     'Lemon'-'Cookie','Raspberry'-'Lemonade'  -->  'Lemon'-'Lemonade'\n",
      "              Support:  0.028\n",
      "              Confidence:  0.9333333333333333\n",
      "Rule:  8     'Lemon'-'Cookie','Lemon'-'Lemonade'  -->  'Raspberry'-'Lemonade'\n",
      "              Support:  0.028\n",
      "              Confidence:  0.9032258064516129\n",
      "Rule:  9     'Lemon'-'Cookie','Lemon'-'Lemonade'  -->  'Raspberry'-'Cookie'\n",
      "              Support:  0.028\n",
      "              Confidence:  0.9032258064516129\n",
      "Rule:  10     'Lemon'-'Lemonade','Raspberry'-'Cookie'  -->  'Lemon'-'Cookie'\n",
      "              Support:  0.028\n",
      "              Confidence:  0.9032258064516129\n",
      "Rule:  11     'Walnut'-'Cookie','Vanilla'-'Frappuccino'  -->  'Chocolate'-'Tart'\n",
      "              Support:  0.018\n",
      "              Confidence:  1.0\n",
      "Rule:  12     'Chocolate'-'Tart','Walnut'-'Cookie'  -->  'Vanilla'-'Frappuccino'\n",
      "              Support:  0.018\n",
      "              Confidence:  1.0\n",
      "Rule:  13     'Hot'-'Coffee','Coffee'-'Eclair'  -->  'Apple'-'Pie'\n",
      "              Support:  0.024\n",
      "              Confidence:  0.9230769230769231\n",
      "Rule:  14     'Apple'-'Danish','Apple'-'Croissant'  -->  'Apple'-'Tart'\n",
      "              Support:  0.04\n",
      "              Confidence:  0.9523809523809523\n",
      "Rule:  15     'Apple'-'Tart','Apple'-'Danish'  -->  'Apple'-'Croissant'\n",
      "              Support:  0.04\n",
      "              Confidence:  0.975609756097561\n",
      "Rule:  16     'Apple'-'Tart','Apple'-'Croissant'  -->  'Apple'-'Danish'\n",
      "              Support:  0.04\n",
      "              Confidence:  0.9090909090909091\n",
      "Rule:  17     'Lemon'-'Cookie','Raspberry'-'Lemonade'  -->  'Raspberry'-'Cookie'\n",
      "              Support:  0.029\n",
      "              Confidence:  0.9666666666666667\n",
      "Rule:  18     'Raspberry'-'Lemonade','Raspberry'-'Cookie'  -->  'Lemon'-'Cookie'\n",
      "              Support:  0.029\n",
      "              Confidence:  1.0\n",
      "Rule:  19     'Lemon'-'Cookie','Raspberry'-'Cookie'  -->  'Raspberry'-'Lemonade'\n",
      "              Support:  0.029\n",
      "              Confidence:  0.8787878787878788\n",
      "Rule:  20     'Apple'-'Pie','Almond'-'Twist'  -->  'Coffee'-'Eclair'\n",
      "              Support:  0.027\n",
      "              Confidence:  0.9310344827586207\n",
      "Rule:  21     'Almond'-'Twist','Coffee'-'Eclair'  -->  'Apple'-'Pie'\n",
      "              Support:  0.027\n",
      "              Confidence:  0.9\n",
      "Rule:  22     'Casino'-'Cake','Chocolate'-'Coffee'  -->  'Chocolate'-'Cake'\n",
      "              Support:  0.038\n",
      "              Confidence:  0.9743589743589743\n",
      "Rule:  23     'Chocolate'-'Cake','Casino'-'Cake'  -->  'Chocolate'-'Coffee'\n",
      "              Support:  0.038\n",
      "              Confidence:  0.95\n",
      "Rule:  24     'Cherry'-'Soda','Apple'-'Danish'  -->  'Apple'-'Tart'\n",
      "              Support:  0.031\n",
      "              Confidence:  0.9393939393939394\n",
      "Rule:  25     'Cherry'-'Soda','Apple'-'Tart'  -->  'Apple'-'Danish'\n",
      "              Support:  0.031\n",
      "              Confidence:  0.8611111111111112\n",
      "Rule:  26     'Apricot'-'Croissant','Hot'-'Coffee'  -->  'Blueberry'-'Tart'\n",
      "              Support:  0.032\n",
      "              Confidence:  1.0\n",
      "Rule:  27     'Blueberry'-'Tart','Hot'-'Coffee'  -->  'Apricot'-'Croissant'\n",
      "              Support:  0.032\n",
      "              Confidence:  0.9696969696969697\n",
      "Rule:  28     'Lemon'-'Lemonade','Green'-'Tea'  -->  'Lemon'-'Cookie'\n",
      "              Support:  0.019\n",
      "              Confidence:  0.9047619047619048\n",
      "Rule:  29     'Lemon'-'Cookie','Green'-'Tea'  -->  'Lemon'-'Lemonade'\n",
      "              Support:  0.019\n",
      "              Confidence:  0.95\n",
      "Rule:  30     'Lemon'-'Cookie','Green'-'Tea'  -->  'Raspberry'-'Lemonade'\n",
      "              Support:  0.019\n",
      "              Confidence:  0.95\n",
      "Rule:  31     'Almond'-'Twist','Hot'-'Coffee'  -->  'Coffee'-'Eclair'\n",
      "              Support:  0.024\n",
      "              Confidence:  0.96\n",
      "Rule:  32     'Hot'-'Coffee','Coffee'-'Eclair'  -->  'Almond'-'Twist'\n",
      "              Support:  0.024\n",
      "              Confidence:  0.9230769230769231\n",
      "Rule:  33     'Lemon'-'Cookie','Green'-'Tea'  -->  'Raspberry'-'Cookie'\n",
      "              Support:  0.019\n",
      "              Confidence:  0.95\n",
      "Rule:  34     'Green'-'Tea','Raspberry'-'Cookie'  -->  'Lemon'-'Cookie'\n",
      "              Support:  0.019\n",
      "              Confidence:  0.95\n",
      "Rule:  35     'Almond'-'Twist','Hot'-'Coffee'  -->  'Apple'-'Pie'\n",
      "              Support:  0.024\n",
      "              Confidence:  0.96\n",
      "Rule:  36     'Lemon'-'Lemonade','Raspberry'-'Lemonade','Green'-'Tea'  -->  'Raspberry'-'Cookie'\n",
      "              Support:  0.019\n",
      "              Confidence:  1.0\n",
      "Rule:  37     'Raspberry'-'Lemonade','Green'-'Tea','Raspberry'-'Cookie'  -->  'Lemon'-'Lemonade'\n",
      "              Support:  0.019\n",
      "              Confidence:  1.0\n",
      "Rule:  38     'Lemon'-'Lemonade','Green'-'Tea','Raspberry'-'Cookie'  -->  'Raspberry'-'Lemonade'\n",
      "              Support:  0.019\n",
      "              Confidence:  1.0\n"
     ]
    }
   ],
   "source": [
    "findRules(bakery1000M, .01, .85, goodsDict, bakery=True)"
   ]
  },
  {
   "cell_type": "code",
   "execution_count": null,
   "metadata": {},
   "outputs": [],
   "source": []
  }
 ],
 "metadata": {
  "kernelspec": {
   "display_name": "Python 3",
   "language": "python",
   "name": "python3"
  },
  "language_info": {
   "codemirror_mode": {
    "name": "ipython",
    "version": 3
   },
   "file_extension": ".py",
   "mimetype": "text/x-python",
   "name": "python",
   "nbconvert_exporter": "python",
   "pygments_lexer": "ipython3",
   "version": "3.6.0"
  }
 },
 "nbformat": 4,
 "nbformat_minor": 2
}
